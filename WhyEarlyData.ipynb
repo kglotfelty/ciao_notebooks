{
 "cells": [
  {
   "cell_type": "code",
   "execution_count": 1,
   "metadata": {},
   "outputs": [
    {
     "name": "stdout",
     "output_type": "stream",
     "text": [
      "CIAO configuration is complete... \r\n",
      "The CIAO setup for this window has changed from\r\n",
      "CIAO 4.10 Thursday, April 12, 2018\r\n",
      "  bindir      : /export/ciao-4.10/bin\r\n",
      "  CALDB       : 4.7.8\r\n",
      "To:\r\n",
      "CIAO 4.10 Thursday, April 12, 2018\r\n",
      "  bindir      : /export/ciao-4.10/bin\r\n",
      "  CALDB       : 4.7.8\r\n"
     ]
    }
   ],
   "source": [
    "source  /export/ciao/bin/ciao.bash -o "
   ]
  },
  {
   "cell_type": "code",
   "execution_count": 4,
   "metadata": {},
   "outputs": [
    {
     "name": "stdout",
     "output_type": "stream",
     "text": []
    }
   ],
   "source": [
    "obspar=o_by_date.fits"
   ]
  },
  {
   "cell_type": "markdown",
   "metadata": {},
   "source": [
    "\n",
    "# Let's get some statistics on this thing"
   ]
  },
  {
   "cell_type": "markdown",
   "metadata": {},
   "source": [
    "Notes\n",
    "\n",
    "- Repro 4 began with DS8.4 (ish) (maybe 8.4.5).\n",
    "\n",
    "- The _obspar_ version number changed from `6` to `7`; this was primarly to change the comment strings in the parameters to follow the FITS convention (ie start comments with units in `[]`).\n",
    "\n",
    "- All data, including early data, went through Repro 3.\n",
    "\n",
    "- I have a table with all obspar files, `obspar`\n",
    "\n",
    "- The obspar data is what populates a large part of the header.\n",
    "\n",
    "- Upshot, I'm using the obspar table to gather some useful infomation about the early part of  the mission.\n"
   ]
  },
  {
   "cell_type": "markdown",
   "metadata": {},
   "source": [
    "## First, what is \"early\" \n",
    "\n",
    "Repro 4 omitted the early data.\n",
    "\n",
    "Why?  There are many reasons from lack of calibration updates during period when CTI increased rapidly, FP_TEMP was running warm, and unbeknownst at the time contam was accumulating.\n",
    "\n",
    "Programatically, processing the data from telemetry dumps during the early part of the mission when there were several safe mode (using the term generically) which causes clock resets is a pain for operations.  It also causes headaches for database when/if times skew and/or different numbers of files are produced.  There is a lot of manual intervention in the processing and archive|ingest of the data.\n",
    "\n",
    "Okay, so then what data are we talking about?"
   ]
  },
  {
   "cell_type": "code",
   "execution_count": 8,
   "metadata": {},
   "outputs": [
    {
     "name": "stdout",
     "output_type": "stream",
     "text": [
      "1047    \r\n"
     ]
    }
   ],
   "source": [
    "dmlist \"${obspar}[obspar_ver=:6]\" counts"
   ]
  },
  {
   "cell_type": "markdown",
   "metadata": {},
   "source": [
    "OK, so there are **1047** obsevations, which have obs.par files.  But some of those will be engineering (including Leon-X1 door opening).  So let's restrict things to just science, ie `POINTING` observations"
   ]
  },
  {
   "cell_type": "code",
   "execution_count": 9,
   "metadata": {},
   "outputs": [
    {
     "name": "stdout",
     "output_type": "stream",
     "text": [
      "664     \r\n"
     ]
    }
   ],
   "source": [
    "dmlist \"${obspar}[obspar_ver=:6,obs_mode=POINTING]\" counts"
   ]
  },
  {
   "cell_type": "markdown",
   "metadata": {},
   "source": [
    "Great, so there are **664** pointed observations that were not included in Repro4.\n",
    "\n",
    "I'll make a copy to make things below easier.\n"
   ]
  },
  {
   "cell_type": "code",
   "execution_count": 10,
   "metadata": {},
   "outputs": [
    {
     "name": "stdout",
     "output_type": "stream",
     "text": []
    }
   ],
   "source": [
    "dmcopy \"${obspar}[obspar_ver=:6,obs_mode=POINTING]\" early_data.fits clob+\n",
    "\n",
    "early_obspar=early_data.fits\n"
   ]
  },
  {
   "cell_type": "markdown",
   "metadata": {},
   "source": [
    "# Check time range\n",
    "\n",
    "The claim has been data before end-of 2000-January, let's see."
   ]
  },
  {
   "cell_type": "code",
   "execution_count": 11,
   "metadata": {},
   "outputs": [
    {
     "name": "stdout",
     "output_type": "stream",
     "text": []
    }
   ],
   "source": [
    "dmsort \"${early_obspar}\" sorted.fits tstart clob+"
   ]
  },
  {
   "cell_type": "code",
   "execution_count": 14,
   "metadata": {},
   "outputs": [
    {
     "name": "stdout",
     "output_type": "stream",
     "text": [
      "  65438410.8838289976 8.1.2                6 2000-01-28T09:20:10    127               0 VELA PULSAR                                          \r\n",
      "  65465197.2098039985 8.1.2                6 2000-01-28T16:46:37    643               0 RX J0439.8-6809                                      \r\n",
      "  65507166.8613300025 8.2.1                6 2000-01-29T04:26:06    386               0 NGC 1055                                             \r\n",
      "  65511149.4989750013 8.2.1                6 2000-01-29T05:32:29    1513              0 A426                                                 \r\n",
      "  65538421.6749669984 8.1.2                6 2000-01-29T13:07:01    1517              0 A267                                                 \r\n",
      "  65542313.6001090035 8.1.2                6 2000-01-29T14:11:53    307               0 M31 TRANSIENT TBD                                    \r\n",
      "  65548946.8878500015 8.1.2                6 2000-01-29T16:02:26    1512              0 CAS A [Chip S2, T=110, Offsets=6,0,0]                \r\n",
      " 145842107.7597999871 7.6.10               6 2002-08-15T23:41:47    2547              2 BETA CETI                                            \r\n",
      " 186707901.1102699935 7.6.8                6 2003-12-01T23:18:21    3764              1 MU LEP (HR 1702, HD 33904)                           \r\n",
      " 190260245.3021399975 7.6.8                6 2004-01-12T02:04:05    3764              3 MU LEP (HR 1702, HD 33904)                           \r\n"
     ]
    }
   ],
   "source": [
    "dmlist sorted.fits\"[cols tstart,ascdsver,obspar_ver,date-obs,obs_id,obi_num,object]\" data,clean | tail "
   ]
  },
  {
   "cell_type": "markdown",
   "metadata": {},
   "source": [
    "Okay ... a little surprising.  The most of the datasets are indeed before `2000-01-29` but there are 3 which are not:\n",
    "\n",
    "- `OBS_ID=2547 OBINUM=2` \n",
    "- `OBS_ID=3764 OBINUM=1`\n",
    "- `OBS_ID=3764 OBINUM=3`\n"
   ]
  },
  {
   "cell_type": "code",
   "execution_count": 15,
   "metadata": {},
   "outputs": [
    {
     "name": "stdout",
     "output_type": "stream",
     "text": [
      "#  obs_id   obi_num    instrume grating object\r\n",
      " 2547              2 HRC     LETG    BETA CETI                                            \r\n",
      " 3764              1 HRC     LETG    MU LEP (HR 1702, HD 33904)                           \r\n",
      " 3764              3 HRC     LETG    MU LEP (HR 1702, HD 33904)                           \r\n"
     ]
    }
   ],
   "source": [
    "dmlist sorted.fits\"[tstart=145842107:][cols obs_id,obi_num,instrume,grating,object,]\" data,clean"
   ]
  },
  {
   "cell_type": "markdown",
   "metadata": {},
   "source": [
    "These two observations are being held in V&V purgatory since they are multi-obi observations with gratings, and the V&V scientist has not approved the L2 processing where the datasets are merged.  But oddly, only obi `2` of obsid `2547` is pending, the obi `0` version was released.\n",
    "\n",
    "They will be repro'ed in Repro-5 and presumably still be rejected/pending.\n",
    "\n",
    "An interesting diversion into CXC politics, but moving on.  I'll take them out of the list.  \n"
   ]
  },
  {
   "cell_type": "code",
   "execution_count": 45,
   "metadata": {},
   "outputs": [
    {
     "name": "stdout",
     "output_type": "stream",
     "text": [
      "661     \r\n"
     ]
    }
   ],
   "source": [
    "dmcopy sorted.fits\"[tstart=:145842107]\" true_early.fits clob+\n",
    "early=true_early.fits\n",
    "dmlist $early counts"
   ]
  },
  {
   "cell_type": "markdown",
   "metadata": {},
   "source": [
    "Okay, we are now down to **661** science observations that were not included in Repro-4."
   ]
  },
  {
   "cell_type": "code",
   "execution_count": 53,
   "metadata": {},
   "outputs": [
    {
     "name": "stdout",
     "output_type": "stream",
     "text": [
      "14      \r\n",
      "#  date-obs               ascdsver    obs_id   obi_num    instrume grating object\r\n",
      " 1999-10-20T01:11:38    10          1456              0 ACIS    HETG    CYG X-3                                              \r\n",
      " 1999-11-29T21:29:19    8.5.1.1     62294             0 ACIS    NONE                                                         \r\n",
      " 1999-11-29T23:30:57    8.5.1.1     62293             0 ACIS    NONE                                                         \r\n",
      " 1999-11-30T10:59:18    8.5.1.1     62292             0 NONE    NONE                                                         \r\n",
      " 1999-11-30T14:51:30    8.5.1.1     84                0 ACIS    NONE    CAL 83                                               \r\n",
      " 1999-11-30T15:48:48    8.5.1.1     341               0 ACIS    NONE    NGC 526A                                             \r\n",
      " 1999-11-30T16:38:37    8.5.1.1     80                0 ACIS    NONE    RX J0019.8+2156                                      \r\n",
      " 1999-11-30T17:25:42    8.5.1.1     243               0 HRC     NONE    M31 - South 2                                        \r\n",
      " 1999-11-30T18:00:59    8.5.1.1     255               0 HRC     NONE    M31 - South 1                                        \r\n",
      " 1999-11-30T18:30:59    8.5.1.1     267               0 HRC     NONE    M31 - CENTER                                         \r\n",
      " 1999-11-30T19:00:58    8.5.1.1     279               0 HRC     NONE    M31 - North 1                                        \r\n",
      " 1999-12-19T18:06:08    10          1456              2 ACIS    HETG    CYG X-3                                              \r\n",
      " 2000-01-06T10:56:08    10.5.4      62237             0 ACIS    NONE                                                         \r\n",
      " 2000-01-06T12:57:46    10.5.4      62236             0 ACIS    NONE                                                         \r\n"
     ]
    }
   ],
   "source": [
    "dmlist o_by_date.fits\"[tstart=:65548946,obspar_ver=7:][cols date-obs,ascdsver,obs_id,obi_num,instrume,grating,object,]\" data,clean,counts"
   ]
  },
  {
   "cell_type": "markdown",
   "metadata": {},
   "source": [
    "> And now just to make things confusing -- these 14 _warm_ observations have been reprocessed "
   ]
  },
  {
   "cell_type": "markdown",
   "metadata": {},
   "source": [
    "## Gather simple stats"
   ]
  },
  {
   "cell_type": "code",
   "execution_count": 21,
   "metadata": {},
   "outputs": [
    {
     "name": "stdout",
     "output_type": "stream",
     "text": [
      "    sum:\t9827111.322 \r\n"
     ]
    }
   ],
   "source": [
    "dmstat \"${early}[cols sched_exp_time]\" sig- med- | grep sum"
   ]
  },
  {
   "cell_type": "markdown",
   "metadata": {},
   "source": [
    "> The period represents ~9.8Msec of observing time."
   ]
  },
  {
   "cell_type": "markdown",
   "metadata": {},
   "source": [
    "### Which instruments?"
   ]
  },
  {
   "cell_type": "code",
   "execution_count": 23,
   "metadata": {},
   "outputs": [
    {
     "name": "stdout",
     "output_type": "stream",
     "text": [
      "     50  ACIS    HETG   \r\n",
      "      6  ACIS    LETG   \r\n",
      "    303  ACIS    NONE   \r\n",
      "     42  HRC     LETG   \r\n",
      "    260  HRC     NONE   \r\n",
      "      1 #  instrume grating\r\n"
     ]
    }
   ],
   "source": [
    "dmlist \"${early}[cols instrume,grating]\" data,clean | sort | uniq -c"
   ]
  },
  {
   "cell_type": "code",
   "execution_count": 46,
   "metadata": {},
   "outputs": [
    {
     "name": "stdout",
     "output_type": "stream",
     "text": [
      "      4  ACIS    HETG    CONTINUOUS   \r\n",
      "     46  ACIS    HETG    TIMED        \r\n",
      "      3  ACIS    LETG    CONTINUOUS   \r\n",
      "      3  ACIS    LETG    TIMED        \r\n",
      "      6  ACIS    NONE    CONTINUOUS   \r\n",
      "    297  ACIS    NONE    TIMED        \r\n",
      "     42  HRC     LETG                 \r\n",
      "    260  HRC     NONE                 \r\n",
      "      1 #  instrume grating readmode\r\n"
     ]
    }
   ],
   "source": [
    "dmlist \"${early}[cols instrume,grating,readmode]\" data,clean | sort | uniq -c"
   ]
  },
  {
   "cell_type": "markdown",
   "metadata": {},
   "source": [
    "### How much observing time per instrument?"
   ]
  },
  {
   "cell_type": "code",
   "execution_count": 28,
   "metadata": {},
   "outputs": [
    {
     "name": "stdout",
     "output_type": "stream",
     "text": [
      "ACIS  \tNONE  \t4.46161e+06\r\n",
      "ACIS  \tHETG  \t1.99064e+06\r\n",
      "ACIS  \tLETG  \t285000\r\n",
      "HRC   \tNONE  \t1.83686e+06\r\n",
      "HRC   \tHETG  \t0\r\n",
      "HRC   \tLETG  \t1.253e+06\r\n"
     ]
    }
   ],
   "source": [
    "for i in ACIS HRC\n",
    "do\n",
    "  for g in NONE HETG LETG\n",
    "  do\n",
    "    t=`dmstat \"${early}[instrume=${i},grating=${g}][cols sched_exp_time]\" verb=0 2> /dev/null ;pget dmstat out_sum `\n",
    "    printf \"%-6s\\t%-6s\\t%g\\n\" $i $g $t\n",
    "  done\n",
    "done\n"
   ]
  },
  {
   "cell_type": "markdown",
   "metadata": {},
   "source": [
    "### Which observers? \n",
    "\n",
    "We expect mostly CAL and GTO targets this early"
   ]
  },
  {
   "cell_type": "code",
   "execution_count": 26,
   "metadata": {
    "scrolled": true
   },
   "outputs": [
    {
     "name": "stdout",
     "output_type": "stream",
     "text": [
      "    459   CXC CALIBRATION\r\n",
      "     40   GORDON GARMIRE\r\n",
      "     28   STEVE MURRAY\r\n",
      "     19   CLAUDE CANIZARES\r\n",
      "     16   LEON VANSPEYBROECK\r\n",
      "      8   ANDREW FABIAN\r\n",
      "      6   RICHARD MUSHOTZKY\r\n",
      "      6   ALBERT BRINKMAN\r\n",
      "      5   WALTER LEWIN\r\n",
      "      5   PAUL GREEN\r\n",
      "      5   ANDREW WILSON\r\n",
      "      4   J WAITE\r\n",
      "      4   GEORGE PAVLOV\r\n",
      "      3   RICCARDO GIACCONI\r\n",
      "      2   YOU-HUA CHU\r\n",
      "      2   TIM HECKMAN\r\n",
      "      2   PAULINA LIRA\r\n",
      "      2   JOSEPH PESCE\r\n",
      "      2   JILL BECHTOLD\r\n",
      "      2   JEFFREY LINSKY\r\n",
      "      2   CRAIG SARAZIN\r\n",
      "      2   CHRYSSA KOUVELIOTOU\r\n",
      "      2   ANN ZABLUDOFF\r\n",
      "      2   ADRIENNE COOL\r\n",
      "      1 #  OBSERVER\r\n",
      "      1   WILTON SANDERS\r\n",
      "      1   TRACEY TURNER\r\n",
      "      1   SUMNER STARRFIELD\r\n",
      "      1   STEPHEN HOLT\r\n",
      "      1   STEPHEN DRAKE\r\n",
      "      1   SHRINIVAS KULKARNI\r\n",
      "      1   MONIQUE ARNAUD\r\n",
      "      1   MICHAEL WISE\r\n",
      "      1   MICHAEL BROTHERTON\r\n",
      "      1   MARTIN WARD\r\n",
      "      1   MARK BIRKINSHAW\r\n",
      "      1   LUIGI PIRO\r\n",
      "      1   LUCIEN KUIPER\r\n",
      "      1   KATSUJI KOYAMA\r\n",
      "      1   JOSEPH CASSINELLI\r\n",
      "      1   JONATHAN MCDOWELL\r\n",
      "      1   JOHN HUGHES\r\n",
      "      1   JEREMY DRAKE\r\n",
      "      1   JEAN DUPUIS\r\n",
      "      1   JAN VRTILEK\r\n",
      "      1   IAN GEORGE\r\n",
      "      1   IAN EVANS\r\n",
      "      1   GRZEGORZ MADEJSKI\r\n",
      "      1   GIBOR BASRI\r\n",
      "      1   FREDERICK HAMANN\r\n",
      "      1   FABIAN WALTER\r\n",
      "      1   DIANA WORRALL\r\n",
      "      1   DAVID HELFAND\r\n",
      "      1   CHRISTINE JONES\r\n",
      "      1   BRUCE MARGON\r\n",
      "      1   ANDREA DUPREE\r\n",
      "      1   ANDRE VAN TEESELING\r\n",
      "      1   ALEXEY VIKHLININ\r\n"
     ]
    }
   ],
   "source": [
    "dmlist true_early.fits\"[cols observer]\" data,clean | tr \"[a-z]\" \"[A-Z]\" | \\\n",
    "  sed 's,PROFESSOR,,;s,[D|M]R\\.,,;s,PROF\\.,,;s,PROF,,;s,DR , ,;s, *$,,' | sort  | uniq  -c  | sort -rn"
   ]
  },
  {
   "cell_type": "markdown",
   "metadata": {},
   "source": [
    "### Split calibration targets\n",
    "\n",
    "The CAL targets are scientific intersting -- in fact the first CAS-A, obsid 214, is a CAL target but we'll look at those separately.\n",
    "\n",
    "\n"
   ]
  },
  {
   "cell_type": "code",
   "execution_count": 32,
   "metadata": {},
   "outputs": [
    {
     "name": "stdout",
     "output_type": "stream",
     "text": [
      "202     \r\n",
      "459     \r\n"
     ]
    }
   ],
   "source": [
    "dmcopy \"true_early.fits[exclude observer=DR. CXC CALIBRATION,Dr. CXC Calibration]\" no_cal clob+\n",
    "dmcopy \"true_early.fits[observer=DR. CXC CALIBRATION,Dr. CXC Calibration]\" just_cal clob+\n",
    "dmlist no_cal counts\n",
    "dmlist just_cal counts"
   ]
  },
  {
   "cell_type": "markdown",
   "metadata": {},
   "source": [
    "### What are CAL targets?"
   ]
  },
  {
   "cell_type": "code",
   "execution_count": 59,
   "metadata": {
    "scrolled": true
   },
   "outputs": [
    {
     "name": "stdout",
     "output_type": "stream",
     "text": [
      "     98  ArLac\r\n",
      "     70  LMC X-1\r\n",
      "     66  HR1099\r\n",
      "     33  CAS A\r\n",
      "     28  PKS0637-752\r\n",
      "     27  CAPELLA\r\n",
      "     26  G21.5-0.9\r\n",
      "     13  PKS0312-770\r\n",
      "     11  2REJ1032+532\r\n",
      "      8  NGC 2516\r\n",
      "      8  E0102-72.3\r\n",
      "      8  COMA CLUSTER\r\n",
      "      6  VEGA\r\n",
      "      5  Blank Sky\r\n",
      "      4  3C 273\r\n",
      "      3  RXJ003033.2+261819\r\n",
      "      3  PSR B0540-69\r\n",
      "      3  PROCYON\r\n",
      "      3  ETA CARINAE\r\n",
      "      3  CEN A\r\n",
      "      2  Triang.Austr.\r\n",
      "      2  SIRIUS B\r\n",
      "      2  N132D\r\n",
      "      2  M82\r\n",
      "      2  HZ43\r\n",
      "      2  HYDRA A\r\n",
      "      2  A2142\r\n",
      "      1  SI Safing Test 2\r\n",
      "      1  SI Safing Test 1\r\n",
      "      1  PG1634+70\r\n",
      "      1  NGC 2516 - S2\r\n",
      "      1  MOSAIC BKGD 4\r\n",
      "      1  MOSAIC BKGD 3\r\n",
      "      1  MOSAIC BKGD 2\r\n",
      "      1  MOSAIC BKGD 1\r\n",
      "      1  MKN 421\r\n",
      "      1  M7 ACA Field Distortion\r\n",
      "      1  LMC X-1 - I3\r\n",
      "      1  LEONID ANTI-RADIANT\r\n",
      "      1  CYG X2, LETG-CC\r\n",
      "      1  CYG X-2\r\n",
      "      1  CRAB PULSAR-CC\r\n",
      "      1  CRAB PULSAR\r\n",
      "      1  CAS A [Chip I0, T\r\n",
      "      1  ABELL 754\r\n",
      "      1  3C295\r\n"
     ]
    }
   ],
   "source": [
    "dmlist \"just_cal[cols object]\" data,clean | grep -v '^#' | \\\n",
    "  sed 's,\\[.*\\],,;s, *$,,;s/,.OFF.*$//' | sort | uniq -c  | sort -rn"
   ]
  },
  {
   "cell_type": "markdown",
   "metadata": {},
   "source": [
    "### What are non-CAL targets?"
   ]
  },
  {
   "cell_type": "code",
   "execution_count": 27,
   "metadata": {
    "scrolled": true
   },
   "outputs": [
    {
     "name": "stdout",
     "output_type": "stream",
     "text": [
      "      6  JUPITER                                              \r\n",
      "      4  M31 TRANSIENT TBD                                    \r\n",
      "      3  SN1999em                                             \r\n",
      "      3  SN 1987A                                             \r\n",
      "      3  RX J0439.0+0715                                      \r\n",
      "      3  NGC 1399                                             \r\n",
      "      3  M82                                                  \r\n",
      "      3  HUBBLE DEEP FIELD                                    \r\n",
      "      3  AXAF Southern Deep Field - ACIS-I                    \r\n",
      "      3  A426                                                 \r\n",
      "      3  A267                                                 \r\n",
      "      2  TRAPEZIUM                                            \r\n",
      "      2  RX J1720.1+2638                                      \r\n",
      "      2  RX J0822-4300                                        \r\n",
      "      2  Q0836+7104                                           \r\n",
      "      2  PSR B0833-45                                         \r\n",
      "      2  PKS 2155-304                                         \r\n",
      "      2  PKS 2149-306                                         \r\n",
      "      2  PKS 0745-191                                         \r\n",
      "      2  PICTOR A                                             \r\n",
      "      2  NGC 7293                                             \r\n",
      "      2  NGC 5139                                             \r\n",
      "      2  NGC 4636                                             \r\n",
      "      2  NGC 4321                                             \r\n",
      "      2  NGC 253                                              \r\n",
      "      2  M31 - North 2                                        \r\n",
      "      2  M31 - CENTER                                         \r\n",
      "      2  LOCKMAN HOLE                                         \r\n",
      "      2  E0102-72.3                                           \r\n",
      "      2  CYG X-1                                              \r\n",
      "      2  ABELL 2218                                           \r\n",
      "      2  A2256                                                \r\n",
      "      2  30 DORADUS                                           \r\n",
      "      2  1E 2259+586                                          \r\n",
      "      1  X0614+091                                            \r\n",
      "      1  VELA PULSAR                                          \r\n",
      "      1  V382 Velorum 1999                                    \r\n",
      "      1  V1416+4446                                           \r\n",
      "      1  UX ARI                                               \r\n",
      "      1  UGC 6456                                             \r\n",
      "      1  TRAPEZIUM CLUSTER                                    \r\n",
      "      1  TON S 180                                            \r\n",
      "      1  SS 433                                               \r\n",
      "      1  SNR 509.0-68.7                                       \r\n",
      "      1  SN1998S                                              \r\n",
      "      1  SIGMA GEM                                            \r\n",
      "      1  SGR A*                                               \r\n",
      "      1  SGR 0526-66                                          \r\n",
      "      1  S-Z CLUSTER                                          \r\n",
      "      1  RX J1159+5531                                        \r\n",
      "      1  RX J0911.4+0551                                      \r\n",
      "      1  RX J0439.8-6809                                      \r\n",
      "      1  RCW 103                                              \r\n",
      "      1  RAPID BURSTER                                        \r\n",
      "      1  Q0842+3431                                           \r\n",
      "      1  Q0254-334                                            \r\n",
      "      1  Q0135-4001                                           \r\n",
      "      1  PSS 0248+1802                                        \r\n",
      "      1  PSR J0218+4232                                       \r\n",
      "      1  PSR B0656+14                                         \r\n",
      "      1  PSR 1055-52                                          \r\n",
      "      1  PLEIADES                                             \r\n",
      "      1  PKS 2126-158                                         \r\n",
      "      1  PKS 0548-322                                         \r\n",
      "      1  PKS 0521-365                                         \r\n",
      "      1  PI-1 UMA                                             \r\n",
      "      1  PG 2302+029                                          \r\n",
      "      1  OMC2--3                                              \r\n",
      "      1  NGC 7618                                             \r\n",
      "      1  NGC 5548                                             \r\n",
      "      1  NGC 5195                                             \r\n",
      "      1  NGC 5128                                             \r\n",
      "      1  NGC 4945                                             \r\n",
      "      1  NGC 4725                                             \r\n",
      "      1  NGC 4697                                             \r\n",
      "      1  NGC 4594                                             \r\n",
      "      1  NGC 4494                                             \r\n",
      "      1  NGC 4203                                             \r\n",
      "      1  NGC 4151                                             \r\n",
      "      1  NGC 404                                              \r\n",
      "      1  NGC 4038/NGC 4039                                    \r\n",
      "      1  NGC 3783                                             \r\n",
      "      1  NGC 3675                                             \r\n",
      "      1  NGC 3628                                             \r\n",
      "      1  NGC 3627                                             \r\n",
      "      1  NGC 3489                                             \r\n",
      "      1  NGC 3486                                             \r\n",
      "      1  NGC 3256                                             \r\n",
      "      1  NGC 3227                                             \r\n",
      "      1  NGC 3184                                             \r\n",
      "      1  NGC 2841                                             \r\n",
      "      1  NGC 2787                                             \r\n",
      "      1  NGC 1851                                             \r\n",
      "      1  NGC 1553                                             \r\n",
      "      1  NGC 1395                                             \r\n",
      "      1  NGC 1275                                             \r\n",
      "      1  NGC 1132                                             \r\n",
      "      1  NGC 1068                                             \r\n",
      "      1  NGC 1055                                             \r\n",
      "      1  MS 2137.3-2353                                       \r\n",
      "      1  MS 1137.5+6625                                       \r\n",
      "      1  MS 0451.6-0305                                       \r\n",
      "      1  MITG J0414+0534                                      \r\n",
      "      1  M33 X-8                                              \r\n",
      "      1  M31 - South 2                                        \r\n",
      "      1  M31 - South 1                                        \r\n",
      "      1  M31 - North 1                                        \r\n",
      "      1  LP 944-20                                            \r\n",
      "      1  LMC X-1                                              \r\n",
      "      1  LBQS 1235+1807B                                      \r\n",
      "      1  LAMBDA AND                                           \r\n",
      "      1  IRAS 09104                                           \r\n",
      "      1  II PEG (HD 224085)                                   \r\n",
      "      1  IC 2574                                              \r\n",
      "      1  HCG 62                                               \r\n",
      "      1  GS 2000+25                                           \r\n",
      "      1  GRB 991216                                           \r\n",
      "      1  GD 246                                               \r\n",
      "      1  FIRST J0840+3633                                     \r\n",
      "      1  DEM 71                                               \r\n",
      "      1  DELTA ORI                                            \r\n",
      "      1  CYG X-3                                              \r\n",
      "      1  CLASS 1608+656                                       \r\n",
      "      1  CL 0107+31                                           \r\n",
      "      1  CIRCINUS GALAXY                                      \r\n",
      "      1  CEN A FILAMENTS                                      \r\n",
      "      1  CAS A                                                \r\n",
      "      1  CAL 83                                               \r\n",
      "      1  BRI 1033-0327                                        \r\n",
      "      1  BL LACERTAE                                          \r\n",
      "      1  BAL 0256-0119                                        \r\n",
      "      1  ALPHA CEN                                            \r\n",
      "      1  AG DRA                                               \r\n",
      "      1  AD LEO                                               \r\n",
      "      1  ABELL 370                                            \r\n",
      "      1  ABELL 3667                                           \r\n",
      "      1  AB DOR                                               \r\n",
      "      1  A697                                                 \r\n",
      "      1  A665                                                 \r\n",
      "      1  A521                                                 \r\n",
      "      1  A401                                                 \r\n",
      "      1  A2390                                                \r\n",
      "      1  A2261                                                \r\n",
      "      1  A2199                                                \r\n",
      "      1  A1914                                                \r\n",
      "      1  A1835                                                \r\n",
      "      1  A1795                                                \r\n",
      "      1  4U 1636-53                                           \r\n",
      "      1  3C 58                                                \r\n",
      "      1  3C 220.1                                             \r\n",
      "      1  1E 1740.7-2942                                       \r\n",
      "      1  1E 1207.4-5209                                       \r\n",
      "      1  0540-69.3                                            \r\n"
     ]
    }
   ],
   "source": [
    "dmlist \"no_cal[cols object]\" data,clean | grep -v '^#' | sort | uniq -c | sort -r"
   ]
  },
  {
   "cell_type": "code",
   "execution_count": 57,
   "metadata": {},
   "outputs": [
    {
     "name": "stdout",
     "output_type": "stream",
     "text": [
      "    153     452    9639\r\n"
     ]
    }
   ],
   "source": [
    "dmlist \"no_cal[cols object]\" data,clean | grep -v '^#' | sort | uniq -c | sort -r | wc"
   ]
  },
  {
   "cell_type": "markdown",
   "metadata": {},
   "source": [
    "### GO vs GTO breakdown?"
   ]
  },
  {
   "cell_type": "code",
   "execution_count": 54,
   "metadata": {},
   "outputs": [
    {
     "name": "stdout",
     "output_type": "stream",
     "text": [
      "      5  DDT \r\n",
      "     56  GO \r\n",
      "    134  GTO \r\n",
      "      7  TOO \r\n"
     ]
    }
   ],
   "source": [
    "# I retrieved ocat info for the non-cal targets using special tool\n",
    "#\n",
    "# dmlist no_cal\"[cols obs_id]\" data,clean  | sort -n | grep -v obs_id | xargs -I@ qocat @ | tee -a ocat.log\n",
    "\n",
    "cat ocat.log | grep 'Observation Type' | cut -d: -f2 | sort | uniq -c"
   ]
  },
  {
   "cell_type": "markdown",
   "metadata": {},
   "source": [
    "Interesting that we have 12 DDT+TOOs in this time range as well.\n",
    "    \n",
    "    - The TOOs are SN1999em, SN1998s, GRB991216, V382 Velorum 1999, and 'RAPID BURSTER'.\n",
    "    - The DDTs include JUPITER and PSF B0833-45\n",
    "   \n",
    "Obvisouly each observation represents a truely unique view of the field at that moment in time; these though\n",
    "are somewhat exceptional unique observations of these transient targets."
   ]
  },
  {
   "cell_type": "markdown",
   "metadata": {},
   "source": [
    "### Have we re-observed the target?\n",
    "\n",
    "The `no_other.py` script checks the `ra_pnt,dec_pnt` of the non-cal targets and compares to the rest of the mission which has been repro'ed.\n",
    "\n",
    "I'm using a tolerance of 1.0 arcmin.\n",
    "\n",
    "\n"
   ]
  },
  {
   "cell_type": "code",
   "execution_count": 28,
   "metadata": {
    "scrolled": true
   },
   "outputs": [
    {
     "name": "stdout",
     "output_type": "stream",
     "text": [
      "1\tJUPITER\r\n",
      "23\tPI-1 UMA\r\n",
      "94\t1E 1740.7-2942\r\n",
      "119\t0540-69.3\r\n",
      "239\tNGC 1399\r\n",
      "315\tNGC 4038/NGC 4039\r\n",
      "319\tNGC 1399\r\n",
      "323\tNGC 4636\r\n",
      "324\tNGC 4636\r\n",
      "325\tS-Z CLUSTER\r\n",
      "336\tPKS 2149-306\r\n",
      "345\tPICTOR A\r\n",
      "376\tPKS 2126-158\r\n",
      "386\tNGC 1055\r\n",
      "388\tNGC 2787\r\n",
      "392\tNGC 3489\r\n",
      "393\tNGC 3486\r\n",
      "394\tNGC 3627\r\n",
      "395\tNGC 3628\r\n",
      "396\tNGC 3675\r\n",
      "397\tNGC 4203\r\n",
      "400\tNGC 4321\r\n",
      "403\tNGC 4494\r\n",
      "414\tNGC 5195\r\n",
      "427\tCLASS 1608+656\r\n",
      "495\tA1835\r\n",
      "502\tA426\r\n",
      "503\tA426\r\n",
      "509\tIRAS 09104\r\n",
      "515\tABELL 370\r\n",
      "518\tA401\r\n",
      "521\tCL 0107+31\r\n",
      "523\tA267\r\n",
      "526\tRX J0439.0+0715\r\n",
      "529\tMS 0451.6-0305\r\n",
      "531\tA665\r\n",
      "532\tA697\r\n",
      "536\tMS 1137.5+6625\r\n",
      "541\tV1416+4446\r\n",
      "542\tA1914\r\n",
      "550\tA2261\r\n",
      "553\tABELL 2218\r\n",
      "579\tLOCKMAN HOLE\r\n",
      "580\tHUBBLE DEEP FIELD\r\n",
      "596\tGRB 991216\r\n",
      "613\tSIGMA GEM\r\n",
      "624\tLP 944-20\r\n",
      "625\tGD 246\r\n",
      "631\tNGC 7293\r\n",
      "634\tOMC2--3\r\n",
      "652\tV382 Velorum 1999\r\n",
      "750\tRX J0822-4300\r\n",
      "775\tDEM 71\r\n",
      "783\tNGC 1553\r\n",
      "790\tNGC 253\r\n",
      "792\tIC 2574\r\n",
      "799\tNGC 1395\r\n",
      "802\tNGC 7618\r\n",
      "804\tNGC 3184\r\n",
      "806\tCEN A FILAMENTS\r\n",
      "811\tTON S 180\r\n",
      "814\tQ0135-4001\r\n",
      "817\tFIRST J0840+3633\r\n",
      "818\tQ0842+3431\r\n",
      "820\tLBQS 1235+1807B\r\n",
      "833\tPG 2302+029\r\n",
      "840\tPKS 0548-322\r\n",
      "846\tPKS 0521-365\r\n",
      "850\tBAL 0256-0119\r\n",
      "871\tUGC 6456\r\n",
      "876\tPSS 0248+1802\r\n",
      "877\tBRI 1033-0327\r\n",
      "910\tRX J1159+5531\r\n",
      "921\tHCG 62\r\n",
      "960\tJUPITER\r\n",
      "965\tA2256\r\n",
      "1386\tA2256\r\n",
      "1448\tA267\r\n",
      "1449\tRX J0439.0+0715\r\n",
      "1451\tII PEG (HD 224085)\r\n",
      "1454\tABELL 2218\r\n",
      "1463\tJUPITER\r\n",
      "1464\tJUPITER\r\n",
      "1465\tJUPITER\r\n",
      "1480\tNGC 7293\r\n",
      "1481\tPKS 2149-306\r\n",
      "1482\tJUPITER\r\n",
      "1483\tLOCKMAN HOLE\r\n",
      "1506\tRX J0439.0+0715\r\n",
      "1513\tA426\r\n",
      "1517\tA267\r\n"
     ]
    }
   ],
   "source": [
    "python no_other.py 1.0 | sort -n"
   ]
  },
  {
   "cell_type": "markdown",
   "metadata": {},
   "source": [
    "So out of the 202 non-cal targets, 91 of the fields have not been re-observed to within 1 arcmin of the early targets aimponts.\n",
    "\n",
    "Surely some of those targets have been reobserved (eg JUPITER) but not at that location on the sky.\n",
    "\n",
    "\n",
    "I can repeat with a bigger search radius \n"
   ]
  },
  {
   "cell_type": "code",
   "execution_count": 29,
   "metadata": {},
   "outputs": [
    {
     "name": "stdout",
     "output_type": "stream",
     "text": [
      "1\tJUPITER\r\n",
      "23\tPI-1 UMA\r\n",
      "325\tS-Z CLUSTER\r\n",
      "336\tPKS 2149-306\r\n",
      "376\tPKS 2126-158\r\n",
      "392\tNGC 3489\r\n",
      "393\tNGC 3486\r\n",
      "414\tNGC 5195\r\n",
      "521\tCL 0107+31\r\n",
      "523\tA267\r\n",
      "526\tRX J0439.0+0715\r\n",
      "529\tMS 0451.6-0305\r\n",
      "536\tMS 1137.5+6625\r\n",
      "541\tV1416+4446\r\n",
      "542\tA1914\r\n",
      "553\tABELL 2218\r\n",
      "596\tGRB 991216\r\n",
      "625\tGD 246\r\n",
      "631\tNGC 7293\r\n",
      "634\tOMC2--3\r\n",
      "783\tNGC 1553\r\n",
      "792\tIC 2574\r\n",
      "799\tNGC 1395\r\n",
      "811\tTON S 180\r\n",
      "814\tQ0135-4001\r\n",
      "817\tFIRST J0840+3633\r\n",
      "818\tQ0842+3431\r\n",
      "820\tLBQS 1235+1807B\r\n",
      "833\tPG 2302+029\r\n",
      "840\tPKS 0548-322\r\n",
      "846\tPKS 0521-365\r\n",
      "850\tBAL 0256-0119\r\n",
      "871\tUGC 6456\r\n",
      "876\tPSS 0248+1802\r\n",
      "877\tBRI 1033-0327\r\n",
      "960\tJUPITER\r\n",
      "965\tA2256\r\n",
      "1448\tA267\r\n",
      "1449\tRX J0439.0+0715\r\n",
      "1451\tII PEG (HD 224085)\r\n",
      "1454\tABELL 2218\r\n",
      "1463\tJUPITER\r\n",
      "1464\tJUPITER\r\n",
      "1465\tJUPITER\r\n",
      "1480\tNGC 7293\r\n",
      "1481\tPKS 2149-306\r\n",
      "1482\tJUPITER\r\n"
     ]
    }
   ],
   "source": [
    "python no_other.py 4.0 | sort -n"
   ]
  },
  {
   "cell_type": "markdown",
   "metadata": {},
   "source": [
    "This is just checking the different in the aimpoint.  There will still be observations which are similar to these; especially if the target was offset from the aimpoint intentionally.  For example obsid 542 has no overlapping aimpoint within 4 arcmin; but there is an overlapping observation:"
   ]
  },
  {
   "cell_type": "code",
   "execution_count": 31,
   "metadata": {},
   "outputs": [
    {
     "name": "stdout",
     "output_type": "stream",
     "text": [
      "# obsid  sepn   inst grat   time    obsdate        piname target\r\n",
      "542       0.0 ACIS-I NONE    8.1 1999-11-21 VANSPEYBROECK  A1914\r\n",
      "3593      0.5 ACIS-I NONE   18.9 2003-09-03 VANSPEYBROECK  A1914\r\n"
     ]
    }
   ],
   "source": [
    "find_chandra_obsid \"542\""
   ]
  },
  {
   "cell_type": "markdown",
   "metadata": {},
   "source": [
    "> The `sepn` is of the target loation which is less than 4 arcmin.\n",
    "\n",
    "The different is that the cluster was intentionally place off-axis, based on the roll so the target is imaged \n",
    "in a similar configuration.\n"
   ]
  },
  {
   "cell_type": "code",
   "execution_count": 38,
   "metadata": {},
   "outputs": [
    {
     "name": "stdout",
     "output_type": "stream",
     "text": [
      "Downloading files for ObsId 542, total size is 125 Kb.\r\n",
      "\r\n",
      "  Type     Format      Size  0........H.........1  Download Time Average Rate\r\n",
      "  ---------------------------------------------------------------------------\r\n",
      "  full_img fits       45 Kb    already downloaded\r\n",
      "  full_img jpg        79 Kb    already downloaded\r\n",
      "\r\n",
      "Downloading files for ObsId 3593, total size is 125 Kb.\r\n",
      "\r\n",
      "  Type     Format      Size  0........H.........1  Download Time Average Rate\r\n",
      "  ---------------------------------------------------------------------------\r\n",
      "  full_img fits       49 Kb    already downloaded\r\n",
      "  full_img jpg        76 Kb    already downloaded\r\n",
      "\r\n"
     ]
    }
   ],
   "source": [
    "download_chandra_obsid 542,3593 full_img"
   ]
  },
  {
   "cell_type": "code",
   "execution_count": 36,
   "metadata": {},
   "outputs": [
    {
     "name": "stdout",
     "output_type": "stream",
     "text": []
    },
    {
     "data": {
      "image/jpeg": "[encoded data removed]"
     },
     "metadata": {},
     "output_type": "display_data"
    }
   ],
   "source": [
    "display < 542/primary/acisf00542N004_full_img2.jpg"
   ]
  },
  {
   "cell_type": "code",
   "execution_count": 37,
   "metadata": {},
   "outputs": [
    {
     "name": "stdout",
     "output_type": "stream",
     "text": []
    },
    {
     "data": {
      "image/jpeg": "[encoded data removed]"
     },
     "metadata": {},
     "output_type": "display_data"
    }
   ],
   "source": [
    "display < 3593/primary/acisf03593N003_full_img2.jpg"
   ]
  },
  {
   "cell_type": "markdown",
   "metadata": {},
   "source": [
    "The `ROLL_PNT` is different between the two observations so the cluster is imaged at somewhat different off-axis\n",
    "angles."
   ]
  },
  {
   "cell_type": "markdown",
   "metadata": {},
   "source": [
    "## Software Updates"
   ]
  },
  {
   "cell_type": "code",
   "execution_count": 2,
   "metadata": {},
   "outputs": [
    {
     "name": "stdout",
     "output_type": "stream",
     "text": [
      "      1  7.6.10     \r\n",
      "    280  8.1.1      \r\n",
      "    185  8.1.2      \r\n",
      "    131  8.2.1      \r\n",
      "      5  8.3.2      \r\n",
      "     41  8.3.2.1    \r\n",
      "      5  8.3.3      \r\n",
      "     10  8.3.3.1    \r\n",
      "      3  8.3.4      \r\n",
      "      1 #  ascdsver\r\n"
     ]
    }
   ],
   "source": [
    "dmlist true_early.fits\"[cols ascdsver]\" data,clean | sort | uniq -c"
   ]
  },
  {
   "cell_type": "code",
   "execution_count": 4,
   "metadata": {},
   "outputs": [
    {
     "name": "stdout",
     "output_type": "stream",
     "text": [
      "#  date-obs               obs_id   object\r\n",
      " 2000-01-06T15:02:09    751      1E 1207.4-5209                                       \r\n"
     ]
    }
   ],
   "source": [
    "dmlist true_early.fits\"[ascdsver=7.6.10][cols date-obs,obs_id,object]\" data,clean"
   ]
  },
  {
   "cell_type": "code",
   "execution_count": 5,
   "metadata": {},
   "outputs": [
    {
     "name": "stdout",
     "output_type": "stream",
     "text": [
      "#  date-obs               obs_id   object\r\n",
      " 1999-11-06T01:10:13    400      NGC 4321                                             \r\n",
      " 1999-12-30T01:51:49    378      M82                                                  \r\n",
      " 2000-01-15T15:24:04    400      NGC 4321                                             \r\n"
     ]
    }
   ],
   "source": [
    "dmlist true_early.fits\"[ascdsver=8.3.4][cols date-obs,obs_id,object]\" data,clean"
   ]
  },
  {
   "cell_type": "markdown",
   "metadata": {},
   "source": [
    "### Summary of relvant release notes\n",
    "\n",
    "> **IMPORTANT**: The aspect changes may not be fully reflected in these notes but a best first-cut guess at the things  which definitely affect the event data have been included.\n",
    "\n",
    "`8.3`\n",
    "    - HRC time varying gain + new PI range\n",
    "    - change calc of \\_PNT and \\_NOM in obidet\n",
    "    - drop L2 HRC pha filter \n",
    "\n",
    "`8.3.3`\n",
    "    - graded mode CTI\n",
    "    - TGAIN added\n",
    "    - ACIS-S + LETG calibrations (pixlib)\n",
    "\n",
    "`8.4`\n",
    "    - aspect periscope alignment drift\n",
    "    - EDSER\n",
    "    - remove celldetect in L2\n",
    "    \n",
    "\n",
    "`8.4.1`\n",
    "    - obspar_ver=7 (Units in headers)\n",
    "    - HRC msk1 files now include bpix edge.  Resulting in better fov1 files eg used by CDA footprint server.\n",
    "    - various other places where keyword units have been corrected\n",
    "    - FOV files when chips excluding all data now drops chip. (eg CasA, 214).\n",
    "    \n",
    "`8.4.2` \n",
    "    - acis_find_afterglow now used to ID hot/glow pixels|columns\n",
    "\n",
    "`8.4.x`\n",
    "    - Start Repro 4\n",
    "\n",
    "---"
   ]
  },
  {
   "cell_type": "markdown",
   "metadata": {},
   "source": [
    "`10.0`\n",
    "    - L0: acis pbk0 file `WIND_ID` keyword incorrect\n",
    "    - new `deltaoclk` tool feeds into `acis_format_events` affects PHAs.  Changes format of stat1.fits files\n",
    "    - obidet updates to SCS107/RADMON-disable \n",
    "    - fix V&V aspect quarternion values \n",
    "   \n",
    "`10.1`\n",
    "    - tgdetect2 (tgfindzo) , aka piledup sources.  Updates meta data in L1.5+ used in V&V\n",
    "\n",
    "`10.2`\n",
    "    - fixes `MTLFILE` keyword in acis_evt1\n",
    "\n",
    "`10.4.2`\n",
    "    - a_p_e, t_r_e bootstrap for CC+gratings to get better time of arrivial\n",
    "    - subpixel in CC mode\n",
    "    - new `ORDER_ADJ` keyword in acis evt1a products\n",
    "\n",
    "`10.4.2.1`\n",
    "    - new CC mode event defs for evt1a files\n",
    "\n",
    "`10.5.0.2`\n",
    "    - remove TLMIN|MAX for bootstrap chipy_zo & chipy_tg\n",
    "    - use NaN for bootstrap chipy_zo & chipy_tg\n",
    "    \n",
    "    "
   ]
  },
  {
   "cell_type": "code",
   "execution_count": 40,
   "metadata": {},
   "outputs": [
    {
     "name": "stdout",
     "output_type": "stream",
     "text": [
      "\r\n",
      "Failed to open virtual file true_early.fits[cols caldbver]\r\n",
      "# DMLIST (CIAO 4.10): Column select syntax: unknown column caldbver\r\n"
     ]
    }
   ],
   "source": [
    "dmlist true_early.fits\"[cols caldbver]\" data,clean | sort | uniq -c"
   ]
  },
  {
   "cell_type": "markdown",
   "metadata": {},
   "source": [
    "Poo.  The `CALDBVER` in the obspar files isn't guaranteed to be what was used in evt processing but should be close.  Definitely not before it.\n",
    "\n",
    "Okay, let's grab the fov files and use it from there."
   ]
  },
  {
   "cell_type": "code",
   "execution_count": 42,
   "metadata": {},
   "outputs": [
    {
     "name": "stdout",
     "output_type": "stream",
     "text": []
    }
   ],
   "source": [
    "mkdir -p fovs\n",
    "\n",
    "( cd fovs; \\\n",
    "  cat ../ocat.log | grep URL | awk '{print $3\"/primary/*fov1.fits.gz\"}' | \\\n",
    "  xargs -I@ wget -q \"@\" )\n"
   ]
  },
  {
   "cell_type": "code",
   "execution_count": 43,
   "metadata": {},
   "outputs": [
    {
     "name": "stdout",
     "output_type": "stream",
     "text": [
      "      1 3.4.0\r\n",
      "    173 4.1.4\r\n",
      "      3 4.1.5\r\n",
      "      1 4.1.7\r\n",
      "      2 4.3.0\r\n",
      "     12 4.3.1\r\n",
      "     13 4.4.0\r\n",
      "      1 4.4.3\r\n",
      "      2 4.4.4\r\n"
     ]
    }
   ],
   "source": [
    "(cd fovs; \\ls *fov1.fits.gz | xargs -I@ dmkeypar @ CALDBVER echo+ ) | sort | uniq -c "
   ]
  },
  {
   "cell_type": "markdown",
   "metadata": {},
   "source": [
    "> So all CALDB updates after basically 4.1.4. "
   ]
  },
  {
   "cell_type": "markdown",
   "metadata": {},
   "source": [
    "`4.2.0`\n",
    "    - tgain 2009-08-01 to 2009-10-31\n",
    "    - contam ver 5 (post 2005(\n",
    "    - hrc-i SAMP gain maps\n",
    "    - hrc-s SMAP time-dependent gain maps\n",
    "\n",
    "`4.2.1`\n",
    "    - tgain 2009-11-01 through 2010-01-31\n",
    "    - acis blank sky E \n",
    "    - LETG GREFFs "
   ]
  },
  {
   "cell_type": "markdown",
   "metadata": {},
   "source": [
    "`4.3.0`\n",
    "    - tgain 2010-02-01 to 2010-04-30\n",
    "    - hrc-i SAMP gamp post 2009-09-24\n",
    "    - hrc-i background events\n",
    "    - hrc-i background pi spectrum\n",
    " \n",
    "`4.3.1`\n",
    "    - tgain\n",
    "    - acis-8 bkg (destreak)\n",
    "    - gain, tgain, cti for 1999 ERs ** that's us **"
   ]
  },
  {
   "cell_type": "markdown",
   "metadata": {},
   "source": [
    "`4.4.0`\n",
    "    - grade image for CTI calibration.\n",
    "    - tgain\n",
    "    - geom updates for ACIS/LETG tilt\n",
    "\n",
    "`4.4.1`\n",
    "    - contam v6\n",
    "    - EDSER subpixel\n",
    "    - tgain\n",
    "    - ACIS+LETG LSFPARAMs\n",
    "    - HRC-I tgain\n",
    "    - HRC-I QE v8\n",
    "    - HRC-S SAMP rmfs\n",
    "    \n",
    "`4.4.3`\n",
    "    - tgain\n",
    "    - CTI post Jan 2000, +FP_TEMP range\n",
    "    - LETG higher order eff\n",
    "    \n",
    "`4.4.4`\n",
    "    - tgain x 2\n",
    "    - gain (sans CTI)\n",
    "    - pcad alignment corrections\n",
    "\n",
    "?? Repro4 ??\n",
    "\n",
    "`4.4.5`\n",
    "    - time dependent HRC-S QEU\n",
    "\n",
    "`4.4.6`\n",
    "    - tgain\n",
    "    - various gain, tgain, cti p2_resp, osip, fef, qe/u for +FP_TEMP post Jan 2000\n",
    "\n",
    "`4.4.6.1`\n",
    "    - HETG eff n0007\n",
    "\n",
    "`4.4.7`\n",
    "    - tgain\n",
    "    - hrc-i gmaps\n",
    "    - hrc-i bkgrnd pi spectrum\n",
    "    - hrc-s QE\n",
    "\n",
    "`4.4.8`\n",
    "    - tgain\n",
    "\n",
    "`4.4.9`\n",
    "    - missing\n",
    "\n",
    "`4.4.10`\n",
    "    - tgain\n",
    "    - contam v7\n",
    "    "
   ]
  },
  {
   "cell_type": "markdown",
   "metadata": {},
   "source": [
    "`4.5.0`\n",
    "    - hrc gaplookup updates\n",
    "\n",
    "`4.5.1`\n",
    "    - hrc-s tgmap\n",
    "\n",
    "`4.5.2`\n",
    "    - tgain\n",
    "    - acis blanksky E v2\n",
    "\n",
    "`4.5.4`    \n",
    "    - tgain for warm ERs\n",
    "    - cti post Jan 2000\n",
    "    - gain and osip for no-CTI\n",
    "\n",
    "\n",
    "`4.5.5`\n",
    "    - tgain\n",
    "    - acis que\n",
    "    - hrc-i gain map, pi bkg \n",
    "    - hrc-s qe\n",
    "    - cti/gain for -110 ERs post Jan 2000\n",
    "    \n",
    "`4.5.6`\n",
    "    - tgain\n",
    "    - blank sky F\n",
    "    - gain/cti files (wonky time period -- fp_temp incorrect)\n",
    "\n",
    "`4.5.7`\n",
    "    - tgain\n",
    "    - blank F update\n",
    "    - fix hrc-s t_gmap grating=NONE\n",
    "\n",
    "`4.5.8`\n",
    "    - tgain\n",
    "    \n",
    "`4.5.9`\n",
    "    - tgain\n",
    "    - comtam v8\n",
    "    - hrc-i sampgain post 2013"
   ]
  },
  {
   "cell_type": "markdown",
   "metadata": {},
   "source": [
    "`4.6.1`\n",
    "    - tgain\n",
    "    - bpix fix FP_TEMP secondary\n",
    "    - hrc-i blanksky evt\n",
    "    - hrc RMF\n",
    "\n",
    "`4.6.2`\n",
    "    - tgain\n",
    "    - pcad align n0009 (post 2003)\n",
    "    - contam v9\n",
    "    \n",
    "`4.6.3`\n",
    "    - tgain\n",
    "    - hrc-s qeu\n",
    "    - hrc-i gmaps\n",
    "\n",
    "`4.6.4`\n",
    "    - grade file CC33_GRADED post 2009 update\n",
    "\n",
    "`4.6.5`\n",
    "    - tgain\n",
    "    - grade file v5 \n",
    "    - hrc-i gmaps\n",
    "    - hrc-s qe/u\n",
    "    \n",
    "`4.6.7`\n",
    "    - tgain\n",
    "    \n",
    "`4.6.8`\n",
    "    - tgain + retro update\n",
    "\n",
    "`4.6.9`\n",
    "    - tain\n",
    "    - detgain + p2resp for S1 (post 2000 Jan)\n",
    "    - LETGS lSFPARAM\n",
    "    - HRC-S QE\n",
    "    - HRC-I QE\n",
    "\n",
    "`4.6.10a`\n",
    "    - EDSER update for CC mode"
   ]
  },
  {
   "cell_type": "markdown",
   "metadata": {},
   "source": [
    "`4.7.0`\n",
    "    - tgain\n",
    "    - EDSER update for CC mode\n",
    "    - QE for CC mode pre 2009\n",
    "    - HRC-I gmap \n",
    "    - HRC-I pibkg\n",
    "    - HRC-I bkgevt\n",
    "\n",
    "`4.7.1`\n",
    "    - tgain\n",
    "    \n",
    "`4.7.2`\n",
    "    - retract grade file (c. `4.6.4`)\n",
    "    - CC mode QE file selection\n",
    "\n",
    "`4.7.3`\n",
    "    - tgain x2\n",
    "    - contam 10\n",
    "    - hrc-i gmap\n",
    "    - hrc-i pibkg\n",
    "\n",
    "`4.7.4`\n",
    "    - tgain\n",
    "    - hrc-i que\n",
    "    - hrc-s badpix v4 (note: bpix in mask; users can remake bpix but not msk1)\n",
    "    - hrc-s qeu\n",
    "\n",
    "`4.7.5`\n",
    "    - t-cti for S3 (post 2000 Jan)\n",
    "\n",
    "`4.7.5.1`\n",
    "    - blanksky G\n",
    "\n",
    "`4.7.6`\n",
    "    - tgain x2\n",
    "    - blanksky G v2\n",
    "\n",
    "`4.7.7`\n",
    "    - hrc-i gmap , bkg\n",
    "\n",
    "`4.7.8`\n",
    "    - tgain x2\n",
    "    - hrc-s gaplookup"
   ]
  },
  {
   "cell_type": "code",
   "execution_count": null,
   "metadata": {},
   "outputs": [],
   "source": []
  },
  {
   "cell_type": "markdown",
   "metadata": {},
   "source": [
    "## Check the meta-data"
   ]
  },
  {
   "cell_type": "code",
   "execution_count": 14,
   "metadata": {},
   "outputs": [
    {
     "name": "stdout",
     "output_type": "stream",
     "text": [
      "Downloading files for ObsId 378, total size is 8 Mb.\r\n",
      "\r\n",
      "  Type     Format      Size  0........H.........1  Download Time Average Rate\r\n",
      "  ---------------------------------------------------------------------------\r\n",
      "  evt1     fits        8 Mb  ####################          < 1 s  14108.5 kb/s\r\n",
      "\r\n",
      "Downloading files for ObsId 19678, total size is 61 Mb.\r\n",
      "\r\n",
      "  Type     Format      Size  0........H.........1  Download Time Average Rate\r\n",
      "  ---------------------------------------------------------------------------\r\n",
      "  evt1     fits       61 Mb  ####################            2 s  39577.8 kb/s\r\n",
      "\r\n"
     ]
    }
   ],
   "source": [
    "download_chandra_obsid 378 evt1 \n",
    "download_chandra_obsid 19678 evt1"
   ]
  },
  {
   "cell_type": "code",
   "execution_count": 15,
   "metadata": {},
   "outputs": [
    {
     "name": "stdout",
     "output_type": "stream",
     "text": []
    }
   ],
   "source": [
    "dmlist 378/secondary/acisf00378_000N005_evt1.fits.gz header,clean | \\\n",
    "  egrep -v 'HISTORY|COMMENT' | awk '{print $1}' | sed 's,[0-9]$,,' | sort > 378.hdr"
   ]
  },
  {
   "cell_type": "code",
   "execution_count": 16,
   "metadata": {},
   "outputs": [
    {
     "name": "stdout",
     "output_type": "stream",
     "text": []
    }
   ],
   "source": [
    "dmlist 19678/secondary/acisf19678_000N001_evt1.fits.gz header,clean | \\\n",
    "  egrep -v 'HISTORY|COMMENT' | awk '{print $1}' | sed 's,[0-9]$,,' | sort > 19678.hdr"
   ]
  },
  {
   "cell_type": "code",
   "execution_count": 17,
   "metadata": {},
   "outputs": [
    {
     "name": "stdout",
     "output_type": "stream",
     "text": [
      "42a43\r\n",
      "> DTH_AVG\r\n",
      "44c45,46\r\n",
      "< EQUINOX\r\n",
      "---\r\n",
      "> DY_AVG\r\n",
      "> DZ_AVG\r\n",
      "51a54\r\n",
      "> FEP_CCD\r\n",
      "90a94\r\n",
      "> OCLKPAIR\r\n",
      "96a101\r\n",
      "> ORC_MODE\r\n",
      "100c105\r\n",
      "< RADECSYS\r\n",
      "---\r\n",
      "> RADESYS\r\n",
      "123a129,130\r\n",
      "> SUBPIXFL\r\n",
      "> SUM_2X\r\n",
      "139a147\r\n",
      "> TIME_ADJ\r\n"
     ]
    }
   ],
   "source": [
    "diff 378.hdr 19678.hdr"
   ]
  },
  {
   "cell_type": "markdown",
   "metadata": {},
   "source": [
    "#### Issues\n",
    "\n",
    "1. Obsolete WCS convention:  `EQUINOX` and `RADECSYS`\n",
    "2. Missing mean aimpoint offset (`DY_AVG`, `DZ_AVG`, `DTH_AVG`) used by various tools including `dmcoords`, `mkarf`, etc.\n",
    "3. Missing parameter block info ( `FEP_CCD`, `OCLKPAIR`, `ORC_MODE`, and `SUM_2x2`) use for dead-area calibrations.\n",
    "4. Not using `EDSER` subpixel algorithm.\n",
    "5. Not using CC time of arrival algorithm.\n"
   ]
  },
  {
   "cell_type": "markdown",
   "metadata": {},
   "source": [
    "### Take a look at the keyword descriptions\n",
    "\n",
    "This is kinda messy, but the gist is that the units and descriptions of data has changed."
   ]
  },
  {
   "cell_type": "code",
   "execution_count": 24,
   "metadata": {},
   "outputs": [
    {
     "name": "stdout",
     "output_type": "stream",
     "text": []
    }
   ],
   "source": [
    "dmmakepar 378/secondary/acisf00378_000N005_evt1.fits.gz\"[EVENTS]\" 378_hdr.par clob+\n",
    "dmmakepar 19678/secondary/acisf19678_000N001_evt1.fits.gz\"[events]\" 19678_hdr.par clob+"
   ]
  },
  {
   "cell_type": "code",
   "execution_count": 25,
   "metadata": {},
   "outputs": [
    {
     "name": "stdout",
     "output_type": "stream",
     "text": []
    }
   ],
   "source": [
    "# Blank out the values, we only want to see the comments here.\n",
    "\n",
    "sort 19678_hdr.par > 19678_hdr_sorted.par\n",
    "pdump 19678_hdr.par | egrep -v EOF | cut -d= -f1 | egrep -v 'clockapp|cti_corr' | xargs -I@ pset 19678_hdr_sorted @=\"\""
   ]
  },
  {
   "cell_type": "code",
   "execution_count": 20,
   "metadata": {},
   "outputs": [
    {
     "name": "stdout",
     "output_type": "stream",
     "text": []
    }
   ],
   "source": [
    "# Blank out the values, we only want to see the comments here.\n",
    "\n",
    "sort 378_hdr.par > 378_hdr_sorted.par\n",
    "pdump 378_hdr.par | egrep -v EOF | cut -d= -f1 | egrep -v 'clockapp|cti_corr' | xargs -I@ pset 378_hdr_sorted @=\"\""
   ]
  },
  {
   "cell_type": "code",
   "execution_count": 23,
   "metadata": {},
   "outputs": [
    {
     "name": "stdout",
     "output_type": "stream",
     "text": [
      "acsys1,s,h,\"\",,,\"reference for chip coord system\"\t\tacsys1,s,h,\"\",,,\"reference for chip coord system\"\r\n",
      "acsys2,s,h,\"\",,,\"reference for tiled detector coord system\"\tacsys2,s,h,\"\",,,\"reference for tiled detector coord system\"\r\n",
      "acsys3,s,h,\"\",,,\"reference for focal plane coord system\"\tacsys3,s,h,\"\",,,\"reference for focal plane coord system\"\r\n",
      "acsys4,s,h,\"\",,,\"reference for sky coord system\"\t\tacsys4,s,h,\"\",,,\"reference for sky coord system\"\r\n",
      "aimpfile,s,h,\"\",,,\t\t\t\t\t\taimpfile,s,h,\"\",,,\r\n",
      "ascdsver,s,h,\"\",,,\"ASCDS version number\"\t\t      |\tascdsver,s,h,\"\",,,\"Processing system revision\"\r\n",
      "asolfile,s,h,\"\",,,\t\t\t\t\t\tasolfile,s,h,\"\",,,\r\n",
      "asptype,s,h,\"\",,,\t\t\t\t\t\tasptype,s,h,\"\",,,\r\n",
      "biasfil0,s,h,\"\",,,\"bias file used: CCD 0\"\t\t\tbiasfil0,s,h,\"\",,,\"bias file used: CCD 0\"\r\n",
      "biasfil1,s,h,\"\",,,\"bias file used: CCD 1\"\t\t\tbiasfil1,s,h,\"\",,,\"bias file used: CCD 1\"\r\n",
      "biasfil2,s,h,\"\",,,\"bias file used: CCD 2\"\t\t\tbiasfil2,s,h,\"\",,,\"bias file used: CCD 2\"\r\n",
      "biasfil3,s,h,\"\",,,\"bias file used: CCD 3\"\t\t\tbiasfil3,s,h,\"\",,,\"bias file used: CCD 3\"\r\n",
      "biasfil6,s,h,\"\",,,\"bias file used: CCD 6\"\t\t      |\tbiasfil7,s,h,\"\",,,\"bias file used: CCD 7\"\r\n",
      "bpixfile,s,h,\"\",,,\t\t\t\t\t\tbpixfile,s,h,\"\",,,\r\n",
      "btimcorr,r,h,0,,,\"Correction applied to Basic Time rate (s)\"\tbtimcorr,r,h,0,,,\"Correction applied to Basic Time rate (s)\"\r\n",
      "btimdrft,r,h,0,,,\"Basic Time clock drift (s / VCDUcount^2)\"\tbtimdrft,r,h,0,,,\"Basic Time clock drift (s / VCDUcount^2)\"\r\n",
      "btimnull,r,h,0,,,\"Basic Time offset (s)\"\t\t\tbtimnull,r,h,0,,,\"Basic Time offset (s)\"\r\n",
      "btimrate,r,h,0,,,\"Basic Time clock rate (s / VCDUcount)\"\tbtimrate,r,h,0,,,\"Basic Time clock rate (s / VCDUcount)\"\r\n",
      "caldbver,s,h,\"\",,,\t\t\t\t\t\tcaldbver,s,h,\"\",,,\r\n",
      "ccd_id,i,h,0,,,\"CCD ID: 0-9\"\t\t\t\t\tccd_id,i,h,0,,,\"CCD ID: 0-9\"\r\n",
      "checksum,s,h,\"\",,,\"HDU checksum updated 2010-12-17T19:51:11\"  |\tchecksum,s,h,\"\",,,\"HDU checksum updated 2018-05-03T07:50:05\"\r\n",
      "clockapp,b,h,yes,,,\"default\"\t\t\t\t\tclockapp,b,h,yes,,,\"default\"\r\n",
      "content,s,h,\"\",,,\"What data product\"\t\t\t\tcontent,s,h,\"\",,,\"What data product\"\r\n",
      "corners,i,h,0,,,\"num adjacent side pix > threshold to include\tcorners,i,h,0,,,\"num adjacent side pix > threshold to include\r\n",
      "creator,s,h,\"\",,,\"tool that created this output\"\t\tcreator,s,h,\"\",,,\"tool that created this output\"\r\n",
      "cti_app,s,h,\"\",,,\t\t\t\t\t\tcti_app,s,h,\"\",,,\r\n",
      "cti_corr,b,h,no,,,\t\t\t\t\t      |\tcti_corr,b,h,yes,,,\r\n",
      "ctifile,s,h,\"\",,,\t\t\t\t\t\tctifile,s,h,\"\",,,\r\n",
      "cycle,s,h,\"\",,,\"events from which exps? Prim/Second/Both\"\tcycle,s,h,\"\",,,\"events from which exps? Prim/Second/Both\"\r\n",
      "dataclas,s,h,\"\",,,\"default\"\t\t\t\t\tdataclas,s,h,\"\",,,\"default\"\r\n",
      "datamode,s,h,\"\",,,\"Data mode\"\t\t\t\t\tdatamode,s,h,\"\",,,\"Data mode\"\r\n",
      "datasum,s,h,\"\",,,\"data unit checksum updated 2010-12-17T19:48 |\tdatasum,s,h,\"\",,,\"data unit checksum updated 2018-05-03T07:48\r\n",
      "date,s,h,\"\",,,\"Date and time of file creation\"\t\t\tdate,s,h,\"\",,,\"Date and time of file creation\"\r\n",
      "date-end,s,h,\"\",,,\"Observation end date\"\t\t\tdate-end,s,h,\"\",,,\"Observation end date\"\r\n",
      "date-obs,s,h,\"\",,,\"Observation start date\"\t\t\tdate-obs,s,h,\"\",,,\"Observation start date\"\r\n",
      "dec_nom,r,h,0,,,\"Nominal Dec\"\t\t\t\t      |\tdec_nom,r,h,0,,,\"Nominal Dec [deg]\"\r\n",
      "dec_pnt,r,h,0,,,\"Pointing Dec\"\t\t\t\t      |\tdec_pnt,r,h,0,,,\"Pointing Dec [deg]\"\r\n",
      "dec_targ,r,h,0,,,\"Observer's specified target Dec\"\t      |\tdec_targ,r,h,0,,,\"Observer's specified target Dec [deg]\"\r\n",
      "defocus,r,h,0,,,\"SIM defocus (mm)\"\t\t\t      |\tdefocus,r,h,0,,,\"SIM defocus [mm]\"\r\n",
      "detnam,s,h,\"\",,,\"Detector\"\t\t\t\t\tdetnam,s,h,\"\",,,\"Detector\"\r\n",
      "ds_ident,s,h,\"\",,,\"dataset identifier\"\t\t\t\tds_ident,s,h,\"\",,,\"dataset identifier\"\r\n",
      "dtcor,r,h,0,,,\"Dead time correction\"\t\t\t\tdtcor,r,h,0,,,\"Dead time correction\"\r\n",
      "\t\t\t\t\t\t\t      >\tdth_avg,r,h,0,,,\"Mean DTHETA during observation [deg]\"\r\n",
      "dtycycle,i,h,0,,,\t\t\t\t\t\tdtycycle,i,h,0,,,\r\n",
      "equinox,r,h,0,,,\"default\"\t\t\t\t      |\tdy_avg,r,h,0,,,\"Mean DY during observation [mm]\"\r\n",
      "\t\t\t\t\t\t\t      >\tdz_avg,r,h,0,,,\"Mean DZ during observation [mm]\"\r\n",
      "exposur0,r,h,0,,,\"Exposure time [s]\"\t\t\t\texposur0,r,h,0,,,\"Exposure time [s]\"\r\n",
      "exposur1,r,h,0,,,\"Exposure time [s]\"\t\t\t\texposur1,r,h,0,,,\"Exposure time [s]\"\r\n",
      "exposur2,r,h,0,,,\"Exposure time [s]\"\t\t\t\texposur2,r,h,0,,,\"Exposure time [s]\"\r\n",
      "exposur3,r,h,0,,,\"Exposure time [s]\"\t\t\t\texposur3,r,h,0,,,\"Exposure time [s]\"\r\n",
      "exposur6,r,h,0,,,\"Exposure time [s]\"\t\t\t      |\texposur7,r,h,0,,,\"Exposure time [s]\"\r\n",
      "exposure,r,h,0,,,\"Exposure time [s]\"\t\t\t\texposure,r,h,0,,,\"Exposure time [s]\"\r\n",
      "exptime,r,h,0,,,\t\t\t\t\t      |\texptime,r,h,0,,,\" [s]\"\r\n",
      "\t\t\t\t\t\t\t      >\tfep_ccd,s,h,\"\",,,\"CCD to FEPID mapping, fep0 is left most dig\r\n",
      "fep_id,i,h,0,,,\"Front End Processor ID: 0-5\"\t\t\tfep_id,i,h,0,,,\"Front End Processor ID: 0-5\"\r\n",
      "firstrow,i,h,0,,,\"Index of first row of CCD (sub)array readou\tfirstrow,i,h,0,,,\"Index of first row of CCD (sub)array readou\r\n",
      "flshtima,r,h,0,,,\"Inferred duration of flush before primary f\tflshtima,r,h,0,,,\"Inferred duration of flush before primary f\r\n",
      "flshtimb,r,h,0,,,\"Inferred duration of flush before secondary\tflshtimb,r,h,0,,,\"Inferred duration of flush before secondary\r\n",
      "flshtime,r,h,0,,,\"Inferred duration of each flush. (s)\"\t      |\tflshtime,r,h,0,,,\" [s]\"\r\n",
      "fltfile,s,h,\"\",,,\t\t\t\t\t\tfltfile,s,h,\"\",,,\r\n",
      "foc_len,r,h,0,,,\"HRMA focal length (mm)\"\t\t      |\tfoc_len,r,h,0,,,\"HRMA focal length [mm]\"\r\n",
      "fp_temp,r,h,0,,,\"Focal Plane Temperature [K]\"\t\t\tfp_temp,r,h,0,,,\"Focal Plane Temperature [K]\"\r\n",
      "fsw_vers,i,h,0,,,\"ACIS flight software version number\"\t\tfsw_vers,i,h,0,,,\"ACIS flight software version number\"\r\n",
      "gainfile,s,h,\"\",,,\t\t\t\t\t\tgainfile,s,h,\"\",,,\r\n",
      "geomfile,s,h,\"\",,,\t\t\t\t\t\tgeomfile,s,h,\"\",,,\r\n",
      "gradesys,s,h,\"\",,,\"grade system: ASCA, ACIS, or USER\"\t\tgradesys,s,h,\"\",,,\"grade system: ASCA, ACIS, or USER\"\r\n",
      "grating,s,h,\"\",,,\"Grating\"\t\t\t\t\tgrating,s,h,\"\",,,\"Grating\"\r\n",
      "grd_file,s,h,\"\",,,\t\t\t\t\t\tgrd_file,s,h,\"\",,,\r\n",
      "hduclas1,s,h,\"\",,,\t\t\t\t\t\thduclas1,s,h,\"\",,,\r\n",
      "hduclas2,s,h,\"\",,,\t\t\t\t\t\thduclas2,s,h,\"\",,,\r\n",
      "hduclass,s,h,\"\",,,\t\t\t\t\t\thduclass,s,h,\"\",,,\r\n",
      "hdudoc,s,h,\"\",,,\t\t\t\t\t\thdudoc,s,h,\"\",,,\r\n",
      "hduspec,s,h,\"\",,,\"ICD r\"\t\t\t\t\thduspec,s,h,\"\",,,\"ICD r\"\r\n",
      "hduvers,s,h,\"\",,,\t\t\t\t\t\thduvers,s,h,\"\",,,\r\n",
      "histnum,i,h,0,,,\t\t\t\t\t\thistnum,i,h,0,,,\r\n",
      "instrume,s,h,\"\",,,\"Instrument\"\t\t\t\t\tinstrume,s,h,\"\",,,\"Instrument\"\r\n",
      "livetime,r,h,0,,,\"Livetime [s]\"\t\t\t\t\tlivetime,r,h,0,,,\"Livetime [s]\"\r\n",
      "livtime0,r,h,0,,,\"Livetime [s]\"\t\t\t\t\tlivtime0,r,h,0,,,\"Livetime [s]\"\r\n",
      "livtime1,r,h,0,,,\"Livetime [s]\"\t\t\t\t\tlivtime1,r,h,0,,,\"Livetime [s]\"\r\n",
      "livtime2,r,h,0,,,\"Livetime [s]\"\t\t\t\t\tlivtime2,r,h,0,,,\"Livetime [s]\"\r\n",
      "livtime3,r,h,0,,,\"Livetime [s]\"\t\t\t\t\tlivtime3,r,h,0,,,\"Livetime [s]\"\r\n",
      "livtime6,r,h,0,,,\"Livetime [s]\"\t\t\t\t      |\tlivtime7,r,h,0,,,\"Livetime [s]\"\r\n",
      "maskfile,s,h,\"\",,,\t\t\t\t\t\tmaskfile,s,h,\"\",,,\r\n",
      "mission,s,h,\"\",,,\"Mission\"\t\t\t\t\tmission,s,h,\"\",,,\"Mission\"\r\n",
      "mjd_obs,r,h,0,,,\"Modified Julian date of observation\"\t\tmjd_obs,r,h,0,,,\"Modified Julian date of observation\"\r\n",
      "mjdref,r,h,0,,,\"MJD zero point for times\"\t\t      |\tmjdref,r,h,0,,,\"MJD zero point for times [d]\"\r\n",
      "mtlfile,s,h,\"\",,,\t\t\t\t\t\tmtlfile,s,h,\"\",,,\r\n",
      "nrows,i,h,0,,,\"Number of rows in (sub)array readout\"\t\tnrows,i,h,0,,,\"Number of rows in (sub)array readout\"\r\n",
      "obi_num,i,h,0,,,\"Obi number\"\t\t\t\t\tobi_num,i,h,0,,,\"Obi number\"\r\n",
      "object,s,h,\"\",,,\"Source name\"\t\t\t\t\tobject,s,h,\"\",,,\"Source name\"\r\n",
      "obs_id,s,h,\"\",,,\"Observation id\"\t\t\t\tobs_id,s,h,\"\",,,\"Observation id\"\r\n",
      "obs_mode,s,h,\"\",,,\"Observation mode\"\t\t\t\tobs_mode,s,h,\"\",,,\"Observation mode\"\r\n",
      "observer,s,h,\"\",,,\"Principal investigator\"\t\t\tobserver,s,h,\"\",,,\"Principal investigator\"\r\n",
      "\t\t\t\t\t\t\t      >\toclkpair,i,h,0,,,\"# of pairs of overclock pixels per output\"\r\n",
      "ontime,r,h,0,,,\"Sum of GTIs [s]\"\t\t\t\tontime,r,h,0,,,\"Sum of GTIs [s]\"\r\n",
      "ontime0,r,h,0,,,\"Sum of GTIs [s]\"\t\t\t\tontime0,r,h,0,,,\"Sum of GTIs [s]\"\r\n",
      "ontime1,r,h,0,,,\"Sum of GTIs [s]\"\t\t\t\tontime1,r,h,0,,,\"Sum of GTIs [s]\"\r\n",
      "ontime2,r,h,0,,,\"Sum of GTIs [s]\"\t\t\t\tontime2,r,h,0,,,\"Sum of GTIs [s]\"\r\n",
      "ontime3,r,h,0,,,\"Sum of GTIs [s]\"\t\t\t\tontime3,r,h,0,,,\"Sum of GTIs [s]\"\r\n",
      "ontime6,r,h,0,,,\"Sum of GTIs [s]\"\t\t\t      |\tontime7,r,h,0,,,\"Sum of GTIs [s]\"\r\n",
      "\t\t\t\t\t\t\t      >\torc_mode,i,h,0,,,\"Output register clocking mode\"\r\n",
      "origin,s,h,\"\",,,\"Source of FITS file\"\t\t\t\torigin,s,h,\"\",,,\"Source of FITS file\"\r\n",
      "pbkfile,s,h,\"\",,,\t\t\t\t\t\tpbkfile,s,h,\"\",,,\r\n",
      "pix_adj,s,h,\"\",,,\"Subpixel adjustment algorithm\"\t\tpix_adj,s,h,\"\",,,\"Subpixel adjustment algorithm\"\r\n",
      "ra_nom,r,h,0,,,\"Nominal RA\"\t\t\t\t      |\tra_nom,r,h,0,,,\"Nominal RA [deg]\"\r\n",
      "ra_pnt,r,h,0,,,\"Pointing RA\"\t\t\t\t      |\tra_pnt,r,h,0,,,\"Pointing RA [deg]\"\r\n",
      "ra_targ,r,h,0,,,\"Observer's specified target RA\"\t      |\tra_targ,r,h,0,,,\"Observer's specified target RA [deg]\"\r\n",
      "radecsys,s,h,\"\",,,\"default\"\t\t\t\t      |\tradesys,s,h,\"\",,,\"default\"\r\n",
      "rand_pi,r,h,0,,,\t\t\t\t\t\trand_pi,r,h,0,,,\r\n",
      "rand_sky,r,h,0,,,\t\t\t\t\t\trand_sky,r,h,0,,,\r\n",
      "readmode,s,h,\"\",,,\"Read mode\"\t\t\t\t\treadmode,s,h,\"\",,,\"Read mode\"\r\n",
      "revision,i,h,0,,,\"Processing version of data\"\t\t\trevision,i,h,0,,,\"Processing version of data\"\r\n",
      "roll_nom,r,h,0,,,\"Nominal Roll\"\t\t\t\t      |\troll_nom,r,h,0,,,\"Nominal Roll [deg]\"\r\n",
      "roll_pnt,r,h,0,,,\"Pointing Roll\"\t\t\t      |\troll_pnt,r,h,0,,,\"Pointing Roll [deg]\"\r\n",
      "run_id,i,h,0,,,\"Science run index\"\t\t\t\trun_id,i,h,0,,,\"Science run index\"\r\n",
      "seq_num,s,h,\"\",,,\"Sequence number\"\t\t\t\tseq_num,s,h,\"\",,,\"Sequence number\"\r\n",
      "shellfil,s,h,\"\",,,\t\t\t\t\t\tshellfil,s,h,\"\",,,\r\n",
      "sim_x,r,h,0,,,\"SIM focus pos (mm)\"\t\t\t      |\tsim_x,r,h,0,,,\"SIM focus pos [mm]\"\r\n",
      "sim_y,r,h,0,,,\"SIM orthogonal axis pos (mm)\"\t\t      |\tsim_y,r,h,0,,,\"SIM orthogonal axis pos [mm]\"\r\n",
      "sim_z,r,h,0,,,\"SIM translation stage pos (mm)\"\t\t      |\tsim_z,r,h,0,,,\"SIM translation stage pos [mm]\"\r\n",
      "skyfile,s,h,\"\",,,\t\t\t\t\t\tskyfile,s,h,\"\",,,\r\n",
      "startbep,i,h,0,,,\"BEP timer value at TSTART\"\t\t\tstartbep,i,h,0,,,\"BEP timer value at TSTART\"\r\n",
      "startmjf,i,h,0,,,\"Major frame ctr value at start of data\"\tstartmjf,i,h,0,,,\"Major frame ctr value at start of data\"\r\n",
      "startmnf,i,h,0,,,\"Start minor frame ctr at start of data\"\tstartmnf,i,h,0,,,\"Start minor frame ctr at start of data\"\r\n",
      "startobt,r,h,0,,,\"On-Board MET close to STARTMJF and STARTMNF\tstartobt,r,h,0,,,\"On-Board MET close to STARTMJF and STARTMNF\r\n",
      "stopbep,i,h,0,,,\"BEP timer value at TSTOP\"\t\t\tstopbep,i,h,0,,,\"BEP timer value at TSTOP\"\r\n",
      "stopmjf,i,h,0,,,\"Major frame ctr value at stop of data\"\t\tstopmjf,i,h,0,,,\"Major frame ctr value at stop of data\"\r\n",
      "stopmnf,i,h,0,,,\"Stop minor frame ctr at end of data\"\t\tstopmnf,i,h,0,,,\"Stop minor frame ctr at end of data\"\r\n",
      "\t\t\t\t\t\t\t      >\tsubpixfl,s,h,\"\",,,\r\n",
      "\t\t\t\t\t\t\t      >\tsum_2x2,i,h,0,,,\"On-chip summing. 0:None; 1:Sum 2x2\"\r\n",
      "tassign,s,h,\"\",,,\"Time assigned by clock\"\t\t\ttassign,s,h,\"\",,,\"Time assigned by clock\"\r\n",
      "tdetfile,s,h,\"\",,,\t\t\t\t\t\ttdetfile,s,h,\"\",,,\r\n",
      "telescop,s,h,\"\",,,\"Telescope\"\t\t\t\t\ttelescop,s,h,\"\",,,\"Telescope\"\r\n",
      "tgaincor,s,h,\"\",,,\t\t\t\t\t\ttgaincor,s,h,\"\",,,\r\n",
      "tgainfil,s,h,\"\",,,\t\t\t\t\t\ttgainfil,s,h,\"\",,,\r\n",
      "thrfile,s,h,\"\",,,\t\t\t\t\t\tthrfile,s,h,\"\",,,\r\n",
      "tierabso,r,h,0,,,\"default\"\t\t\t\t\ttierabso,r,h,0,,,\"default\"\r\n",
      "tierrela,r,h,0,,,\"default\"\t\t\t\t\ttierrela,r,h,0,,,\"default\"\r\n",
      "timedel,r,h,0,,,\"timedel Lev1 (in seconds)\"\t\t      |\ttime_adj,s,h,\"\",,,\"time adjustment algorithm\"\r\n",
      "\t\t\t\t\t\t\t      >\ttimedel,r,h,0,,,\"timedel Lev1 [s]\"\r\n",
      "timedela,r,h,0,,,\"Inferred duration of primary exposure (s)\"\ttimedela,r,h,0,,,\"Inferred duration of primary exposure (s)\"\r\n",
      "timedelb,r,h,0,,,\"Inferred duration of secondary exp. (s)\"\ttimedelb,r,h,0,,,\"Inferred duration of secondary exp. (s)\"\r\n",
      "timepixr,r,h,0,,,\"default\"\t\t\t\t\ttimepixr,r,h,0,,,\"default\"\r\n",
      "timeref,s,h,\"\",,,\"Time reference (barycenter/local)\"\t\ttimeref,s,h,\"\",,,\"Time reference (barycenter/local)\"\r\n",
      "timesys,s,h,\"\",,,\"Time system\"\t\t\t\t\ttimesys,s,h,\"\",,,\"Time system\"\r\n",
      "timeunit,s,h,\"\",,,\"Time unit\"\t\t\t\t\ttimeunit,s,h,\"\",,,\"Time unit\"\r\n",
      "timezero,r,h,0,,,\"Clock correction\"\t\t\t      |\ttimezero,r,h,0,,,\"Clock correction [s]\"\r\n",
      "timversn,s,h,\"\",,,\"Timing system definition\"\t\t\ttimversn,s,h,\"\",,,\"Timing system definition\"\r\n",
      "title,s,h,\"\",,,\"Proposal title\"\t\t\t\t\ttitle,s,h,\"\",,,\"Proposal title\"\r\n",
      "tlmver,s,h,\"\",,,\"Telemetry revision number (IP&CL)\"\t\ttlmver,s,h,\"\",,,\"Telemetry revision number (IP&CL)\"\r\n",
      "tstart,r,h,0,,,\"Observation start time\"\t\t\t      |\ttstart,r,h,0,,,\"Observation start time (MET) [s]\"\r\n",
      "tstop,r,h,0,,,\"Observation end time\"\t\t\t      |\ttstop,r,h,0,,,\"Observation end time (MET) [s]\"\r\n",
      "mode,s,h,\"\",,,\t\t\t\t\t\t\tmode,s,h,\"\",,,\r\n"
     ]
    }
   ],
   "source": [
    "sdiff 378_hdr_sorted.par 19678_hdr_sorted.par"
   ]
  },
  {
   "cell_type": "code",
   "execution_count": null,
   "metadata": {},
   "outputs": [],
   "source": []
  },
  {
   "cell_type": "code",
   "execution_count": null,
   "metadata": {},
   "outputs": [],
   "source": []
  },
  {
   "cell_type": "code",
   "execution_count": null,
   "metadata": {},
   "outputs": [],
   "source": []
  }
 ],
 "metadata": {
  "kernelspec": {
   "display_name": "Bash",
   "language": "bash",
   "name": "bash"
  },
  "language_info": {
   "codemirror_mode": "shell",
   "file_extension": ".sh",
   "mimetype": "text/x-sh",
   "name": "bash"
  }
 },
 "nbformat": 4,
 "nbformat_minor": 2
}
