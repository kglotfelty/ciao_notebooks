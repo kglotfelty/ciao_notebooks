{
 "cells": [
  {
   "cell_type": "code",
   "execution_count": 1,
   "metadata": {},
   "outputs": [],
   "source": [
    "import sys\n",
    "from numpy import *"
   ]
  },
  {
   "cell_type": "code",
   "execution_count": 2,
   "metadata": {},
   "outputs": [],
   "source": [
    "import xap_mcmc_funs as xap"
   ]
  },
  {
   "cell_type": "code",
   "execution_count": 3,
   "metadata": {},
   "outputs": [],
   "source": [
    "import sherpa.astro.ui as sherpa"
   ]
  },
  {
   "cell_type": "markdown",
   "metadata": {},
   "source": [
    "## ObsID #1 "
   ]
  },
  {
   "cell_type": "code",
   "execution_count": 4,
   "metadata": {},
   "outputs": [],
   "source": [
    "# F is the matrix of PSF and Expmap\n",
    "F1=array([[  8.83838290e-01,   1.95051380e-03,   1.24255146e+01],\n",
    "          [  2.16125910e-03,   8.83791509e-01,   1.20655538e+01],\n",
    "          [  6.85424097e-02,   6.31054323e-02,   2.79000000e+02]])"
   ]
  },
  {
   "cell_type": "code",
   "execution_count": 5,
   "metadata": {},
   "outputs": [
    {
     "data": {
      "text/plain": [
       "0.0021612591"
      ]
     },
     "execution_count": 5,
     "metadata": {},
     "output_type": "execute_result"
    }
   ],
   "source": [
    "F1[1][0]"
   ]
  },
  {
   "cell_type": "markdown",
   "metadata": {},
   "source": [
    "`F1` in the above example  \n",
    "\n",
    "- `F1[0,0]` is psf-fraction for source 0 in source 0's region, ie ~90%\n",
    "- `F1[0,1]` is psf-fraction for source 1 in source 0's region.\n",
    "- `F1[1,0]` is psf-fraction for source 0 in source 1's region.\n",
    "- `F1[1,1]` is psf-fraction for source 1 in source 1's region, ie ~90%\n",
    "- `F1[0,2]` is the area of source 0's region.\n",
    "- `F1[1,2]` is the area of source 1's region.\n",
    "- `F1[2,0]` is psf-fraction for source 0 in background region.\n",
    "- `F1[2,1]` is psf-fraction for source 1 in background region.\n",
    "- `F1[2,2]` is the area of background region.\n",
    "\n",
    "What about exposure?  The original `xap` multiplies `F*E` where `E` is vector with average exposures.  So that multiplies the area terms too `F1[2,:]` ? \n",
    "\n"
   ]
  },
  {
   "cell_type": "code",
   "execution_count": 6,
   "metadata": {},
   "outputs": [],
   "source": [
    "# C is the counts array\n",
    "C1=array([4.0,923.0,74.0])"
   ]
  },
  {
   "cell_type": "markdown",
   "metadata": {},
   "source": [
    "`C1` is the counts array.\n",
    "\n",
    "- `C1[0]` counts in source region 0\n",
    "- `C1[1]` counts in source region 1\n",
    "- `C1[2]` counts in background region\n"
   ]
  },
  {
   "cell_type": "code",
   "execution_count": 7,
   "metadata": {},
   "outputs": [],
   "source": [
    "# Index (obsid number, just 0 to N)\n",
    "ix1=array([0,1,2])"
   ]
  },
  {
   "cell_type": "code",
   "execution_count": 8,
   "metadata": {},
   "outputs": [],
   "source": [
    "# ???? These are initial values to the model, how to compute?\n",
    "s1=array([3.1972e0,1.0425e3,3.8828e-2])\n",
    "sigma_s1=array([sqrt(5.5871e0),sqrt(1.1529e3),sqrt(6.7777e-4)])"
   ]
  },
  {
   "cell_type": "markdown",
   "metadata": {},
   "source": [
    "Not sure where these are coming from exactly.  I suspect these the the _MLE_ estimates and Gaussian error estimates?\n"
   ]
  },
  {
   "cell_type": "code",
   "execution_count": 9,
   "metadata": {},
   "outputs": [],
   "source": [
    "# This comes from xap_funs.py\n",
    "def get_s_sigma(F,C):\n",
    "    import numpy as np\n",
    "    import numpy.linalg as la\n",
    "    Finv = la.inv(F)\n",
    "    s = np.dot(Finv,C)\n",
    "    Finv2 = Finv*Finv\n",
    "    sigma_s = np.dot(Finv2,C)\n",
    "    return s,sigma_s"
   ]
  },
  {
   "cell_type": "code",
   "execution_count": 10,
   "metadata": {},
   "outputs": [
    {
     "name": "stdout",
     "output_type": "stream",
     "text": [
      "[  1.81894088e+00   1.04396829e+03   2.86568291e-02]\n",
      "[  5.34677567e+00   1.18919837e+03   1.02445763e-03]\n"
     ]
    }
   ],
   "source": [
    "s,sigma_s = get_s_sigma(F1,C1)\n",
    "print(s)\n",
    "print(sigma_s)"
   ]
  },
  {
   "cell_type": "markdown",
   "metadata": {},
   "source": [
    "> Humm, these numbers don't match the `s1` and `sigma_s1` values above, but not too far off ..."
   ]
  },
  {
   "cell_type": "code",
   "execution_count": 11,
   "metadata": {},
   "outputs": [],
   "source": [
    "s1 = s\n",
    "sigma_s1 = sqrt(sigma_s)"
   ]
  },
  {
   "cell_type": "code",
   "execution_count": 12,
   "metadata": {},
   "outputs": [],
   "source": [
    "# Create model\n",
    "apertures1=xap.Apertures(F1)"
   ]
  },
  {
   "cell_type": "code",
   "execution_count": 13,
   "metadata": {},
   "outputs": [
    {
     "name": "stdout",
     "output_type": "stream",
     "text": [
      "Help on Apertures in module xap_mcmc_funs object:\n",
      "\n",
      "class Apertures(builtins.object)\n",
      " |  Class of user-defined models to compute model counts in source or\n",
      " |  background apertures. Model parameters are source and background\n",
      " |  intensities. Data are raw counts in apertures. The vector of model\n",
      " |  counts is computed from the vector of intensities by application of\n",
      " |  the ECF/Exposure matrix F (see eq. 7 and Table 1 of Primini & Kashyap,\n",
      " |  2014, ApJ, 796, 24.)\n",
      " |  \n",
      " |  Methods:\n",
      " |  __init__(self,F)\n",
      " |    define F matrix\n",
      " |  __call__(self, params,iap)\n",
      " |    compute model counts for vector aperture for F and model intensities given\n",
      " |    in params array.\n",
      " |  Attributes:\n",
      " |    Print F.\n",
      " |  \n",
      " |  Methods defined here:\n",
      " |  \n",
      " |  __call__(self, params, iap)\n",
      " |      Call self as a function.\n",
      " |  \n",
      " |  __init__(self, F)\n",
      " |      Initialize self.  See help(type(self)) for accurate signature.\n",
      " |  \n",
      " |  attributes(self)\n",
      " |  \n",
      " |  ----------------------------------------------------------------------\n",
      " |  Data descriptors defined here:\n",
      " |  \n",
      " |  __dict__\n",
      " |      dictionary for instance variables (if defined)\n",
      " |  \n",
      " |  __weakref__\n",
      " |      list of weak references to the object (if defined)\n",
      "\n"
     ]
    }
   ],
   "source": [
    "help(apertures1)"
   ]
  },
  {
   "cell_type": "markdown",
   "metadata": {},
   "source": [
    "## ObsID #2\n"
   ]
  },
  {
   "cell_type": "code",
   "execution_count": 14,
   "metadata": {},
   "outputs": [],
   "source": [
    "F2=array([[  8.83838290e-01,   1.95051380e-03,   1.24255146e+01],\n",
    "          [  2.16125910e-03,   8.83791509e-01,   1.20655538e+01],\n",
    "          [  6.85424097e-02,   6.31054323e-02,   2.79000000e+02]])\n",
    "C2=array([11.0,881.0,78.0])\n",
    "ix2=array([0,1,2])\n",
    "s2=array([1.0558e+01,9.9642e+02,5.7549e-02])\n",
    "sigma_s2=array([sqrt(1.5597e+01),sqrt(1.1215e+03),sqrt(9.4478e-04)])\n",
    "apertures2=xap.Apertures(F2)\n"
   ]
  },
  {
   "cell_type": "code",
   "execution_count": 15,
   "metadata": {},
   "outputs": [
    {
     "name": "stdout",
     "output_type": "stream",
     "text": [
      "[  9.51740878e+00   9.96109250e+02   5.19274158e-02]\n",
      "[  1.43801231e+01   1.13510313e+03   1.07429346e-03]\n"
     ]
    }
   ],
   "source": [
    "s,sigma_s = get_s_sigma(F2,C2)\n",
    "s2 = s\n",
    "sigma_s2 = sqrt(sigma_s)\n",
    "print(s)\n",
    "print(sigma_s)"
   ]
  },
  {
   "cell_type": "markdown",
   "metadata": {},
   "source": [
    "## Create sherpa models\n"
   ]
  },
  {
   "cell_type": "code",
   "execution_count": 16,
   "metadata": {},
   "outputs": [],
   "source": [
    "sherpa.load_user_model(apertures1,\"ap1\")"
   ]
  },
  {
   "cell_type": "code",
   "execution_count": 17,
   "metadata": {},
   "outputs": [],
   "source": [
    "sherpa.load_user_model(apertures2,\"ap2\")"
   ]
  },
  {
   "cell_type": "code",
   "execution_count": 18,
   "metadata": {},
   "outputs": [],
   "source": [
    "sherpa.add_user_pars(\"ap1\",['s0_1','s1_1','b_1'],s1,parmins=s1-5.0*sigma_s1,parmaxs=s1+5.0*sigma_s1)\n",
    "sherpa.add_user_pars(\"ap2\",['s0_2','s1_2','b_2'],s2,parmins=s2-5.0*sigma_s2,parmaxs=s2+5.0*sigma_s2)"
   ]
  },
  {
   "cell_type": "code",
   "execution_count": 19,
   "metadata": {},
   "outputs": [],
   "source": [
    "sherpa.set_model(1,ap1)\n",
    "sherpa.set_model(2,ap2)"
   ]
  },
  {
   "cell_type": "code",
   "execution_count": 20,
   "metadata": {},
   "outputs": [],
   "source": [
    "sherpa.load_arrays(1,ix1,C1,sherpa.Data1D)\n",
    "sherpa.load_arrays(2,ix2,C2,sherpa.Data1D)"
   ]
  },
  {
   "cell_type": "code",
   "execution_count": 21,
   "metadata": {},
   "outputs": [
    {
     "name": "stdout",
     "output_type": "stream",
     "text": [
      "usermodel.ap1\n",
      "   Param        Type          Value          Min          Max      Units\n",
      "   -----        ----          -----          ---          ---      -----\n",
      "   ap1.s0_1     thawed      1.81894     -9.74261      13.3805           \n",
      "   ap1.s1_1     thawed      1043.97      871.545      1216.39           \n",
      "   ap1.b_1      thawed    0.0286568    -0.131379     0.188693           \n"
     ]
    }
   ],
   "source": [
    "print(sherpa.get_model(1))"
   ]
  },
  {
   "cell_type": "code",
   "execution_count": 22,
   "metadata": {},
   "outputs": [
    {
     "name": "stdout",
     "output_type": "stream",
     "text": [
      "usermodel.ap2\n",
      "   Param        Type          Value          Min          Max      Units\n",
      "   -----        ----          -----          ---          ---      -----\n",
      "   ap2.s0_2     thawed      9.51741     -9.44316       28.478           \n",
      "   ap2.s1_2     thawed      996.109      827.653      1164.57           \n",
      "   ap2.b_2      thawed    0.0519274    -0.111955     0.215809           \n"
     ]
    }
   ],
   "source": [
    "print(sherpa.get_model(2))"
   ]
  },
  {
   "cell_type": "markdown",
   "metadata": {},
   "source": [
    "## Link parameters\n"
   ]
  },
  {
   "cell_type": "code",
   "execution_count": 23,
   "metadata": {},
   "outputs": [],
   "source": [
    "# Source is contant across observations\n",
    "ap1.s0_1=ap2.s0_2\n",
    "ap1.s1_1=ap2.s1_2"
   ]
  },
  {
   "cell_type": "code",
   "execution_count": 24,
   "metadata": {},
   "outputs": [
    {
     "name": "stdout",
     "output_type": "stream",
     "text": [
      "usermodel.ap1\n",
      "   Param        Type          Value          Min          Max      Units\n",
      "   -----        ----          -----          ---          ---      -----\n",
      "   ap1.s0_1     linked      9.51741           expr: ap2.s0_2           \n",
      "   ap1.s1_1     linked      996.109           expr: ap2.s1_2           \n",
      "   ap1.b_1      thawed    0.0286568    -0.131379     0.188693           \n",
      "usermodel.ap2\n",
      "   Param        Type          Value          Min          Max      Units\n",
      "   -----        ----          -----          ---          ---      -----\n",
      "   ap2.s0_2     thawed      9.51741     -9.44316       28.478           \n",
      "   ap2.s1_2     thawed      996.109      827.653      1164.57           \n",
      "   ap2.b_2      thawed    0.0519274    -0.111955     0.215809           \n"
     ]
    }
   ],
   "source": [
    "print(sherpa.get_model(1))\n",
    "print(sherpa.get_model(2))"
   ]
  },
  {
   "cell_type": "markdown",
   "metadata": {},
   "source": [
    "## Fit it\n"
   ]
  },
  {
   "cell_type": "code",
   "execution_count": 25,
   "metadata": {},
   "outputs": [
    {
     "name": "stdout",
     "output_type": "stream",
     "text": [
      "Datasets              = 1, 2\n",
      "Method                = moncar\n",
      "Statistic             = cash\n",
      "Initial fit statistic = -21982.9\n",
      "Final fit statistic   = -21986.4 at function evaluation 819\n",
      "Data points           = 6\n",
      "Degrees of freedom    = 2\n",
      "Change in statistic   = 3.46364\n",
      "   ap1.b_1        0.0281873   \n",
      "   ap2.s0_2       5.58633     \n",
      "   ap2.s1_2       1020.04     \n",
      "   ap2.b_2        0.0529076   \n"
     ]
    }
   ],
   "source": [
    "sherpa.set_stat(\"cash\")\n",
    "sherpa.set_method(\"moncar\")\n",
    "sherpa.fit(1,2)"
   ]
  },
  {
   "cell_type": "code",
   "execution_count": 26,
   "metadata": {},
   "outputs": [
    {
     "name": "stdout",
     "output_type": "stream",
     "text": [
      "Datasets              = 1, 2\n",
      "Confidence Method     = covariance\n",
      "Iterative Fit Method  = None\n",
      "Fitting Method        = moncar\n",
      "Statistic             = cash\n",
      "covariance 1-sigma (68.2689%) bounds:\n",
      "   Param            Best-Fit  Lower Bound  Upper Bound\n",
      "   -----            --------  -----------  -----------\n",
      "   ap1.b_1         0.0281873   -0.0307121    0.0307121\n",
      "   ap2.s0_2          5.58633     -2.22404      2.22404\n",
      "   ap2.s1_2          1020.04     -24.1055      24.1055\n",
      "   ap2.b_2         0.0529076   -0.0327194    0.0327194\n"
     ]
    }
   ],
   "source": [
    "sherpa.covar()"
   ]
  },
  {
   "cell_type": "markdown",
   "metadata": {},
   "source": [
    "## Generate draws"
   ]
  },
  {
   "cell_type": "code",
   "execution_count": 27,
   "metadata": {},
   "outputs": [
    {
     "name": "stdout",
     "output_type": "stream",
     "text": [
      "Using Priors:\n",
      "ap1.b_1: <function flat at 0x7fd7af6a1b70>\n",
      "ap2.s0_2: <function flat at 0x7fd7af6a1b70>\n",
      "ap2.s1_2: <function flat at 0x7fd7af6a1b70>\n",
      "ap2.b_2: <function flat at 0x7fd7af6a1b70>\n"
     ]
    }
   ],
   "source": [
    "stats,accept,params=sherpa.get_draws(niter=10000)"
   ]
  },
  {
   "cell_type": "markdown",
   "metadata": {},
   "source": [
    "## Write output"
   ]
  },
  {
   "cell_type": "code",
   "execution_count": 28,
   "metadata": {},
   "outputs": [],
   "source": [
    "xap.write_draws(\"sim_1and2_draws.fits\",['b1','s0','s1','b2'],stats,accept,params)"
   ]
  },
  {
   "cell_type": "code",
   "execution_count": 29,
   "metadata": {},
   "outputs": [
    {
     "name": "stdout",
     "output_type": "stream",
     "text": [
      " \r\n",
      "--------------------------------------------------------------------------------\r\n",
      "Dataset: sim_1and2_draws.fits\r\n",
      "--------------------------------------------------------------------------------\r\n",
      " \r\n",
      "     Block Name                          Type         Dimensions\r\n",
      "--------------------------------------------------------------------------------\r\n",
      "Block    1: PRIMARY                        Null        \r\n",
      "Block    2: Draws                          Table         6 cols x 10001    rows\r\n",
      " \r\n",
      "--------------------------------------------------------------------------------\r\n",
      "Columns for Table Block Draws\r\n",
      "--------------------------------------------------------------------------------\r\n",
      " \r\n",
      "ColNo  Name                 Unit        Type             Range\r\n",
      "   1   Stat                              Real8          -Inf:+Inf            \r\n",
      "   2   Accept                            Logical                             \r\n",
      "   3   b1                                Real8          -Inf:+Inf            \r\n",
      "   4   s0                                Real8          -Inf:+Inf            \r\n",
      "   5   s1                                Real8          -Inf:+Inf            \r\n",
      "   6   b2                                Real8          -Inf:+Inf            \r\n"
     ]
    }
   ],
   "source": [
    "!dmlist sim_1and2_draws.fits blocks,cols"
   ]
  },
  {
   "cell_type": "code",
   "execution_count": null,
   "metadata": {},
   "outputs": [],
   "source": []
  },
  {
   "cell_type": "code",
   "execution_count": null,
   "metadata": {},
   "outputs": [],
   "source": []
  }
 ],
 "metadata": {
  "kernelspec": {
   "display_name": "Python 3",
   "language": "python",
   "name": "python3"
  },
  "language_info": {
   "codemirror_mode": {
    "name": "ipython",
    "version": 3
   },
   "file_extension": ".py",
   "mimetype": "text/x-python",
   "name": "python",
   "nbconvert_exporter": "python",
   "pygments_lexer": "ipython3",
   "version": "3.5.4"
  }
 },
 "nbformat": 4,
 "nbformat_minor": 2
}
